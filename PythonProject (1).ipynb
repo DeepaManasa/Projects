{
 "cells": [
  {
   "cell_type": "markdown",
   "metadata": {
    "id": "IyFDvf-bmmmy"
   },
   "source": [
    "#Operators\n",
    "Python provides a variety of operators for performing arithmetic, comparisons, logical operations, and assignments."
   ]
  },
  {
   "cell_type": "markdown",
   "metadata": {
    "id": "6XftzCZ98gYQ"
   },
   "source": [
    "#1. Arithmetic Operators\n",
    "Arithmetic operators are used to perform mathematical operations such as addition, subtraction, multiplication, division, etc."
   ]
  },
  {
   "cell_type": "code",
   "execution_count": 2,
   "metadata": {
    "colab": {
     "base_uri": "https://localhost:8080/"
    },
    "id": "s8t35Gag8jZf",
    "outputId": "55de3c47-5699-44f2-e4b9-3d23642f7f7e"
   },
   "outputs": [
    {
     "name": "stdout",
     "output_type": "stream",
     "text": [
      "13\n",
      "7\n",
      "30\n",
      "3.3333333333333335\n",
      "1\n",
      "1000\n",
      "3\n"
     ]
    }
   ],
   "source": [
    "a = 10\n",
    "b = 3\n",
    "\n",
    "print(a + b)  # Addition: 13\n",
    "print(a - b)  # Subtraction: 7\n",
    "print(a * b)  # Multiplication: 30\n",
    "print(a / b)  # Division: 3.333...\n",
    "print(a % b)  # Modulus: 1\n",
    "print(a ** b) # Exponentiation: 1000\n",
    "print(a // b) # Floor division: 3\n"
   ]
  },
  {
   "cell_type": "markdown",
   "metadata": {
    "id": "TzTJx9aQ8lDE"
   },
   "source": [
    "#2. Comparison Operators\n",
    "Comparison operators are used to compare two values and return a boolean result (True or False)"
   ]
  },
  {
   "cell_type": "code",
   "execution_count": 4,
   "metadata": {
    "colab": {
     "base_uri": "https://localhost:8080/"
    },
    "id": "_2Be3NmC8qFu",
    "outputId": "e749c6ac-af95-476f-bbd5-521030c66220"
   },
   "outputs": [
    {
     "name": "stdout",
     "output_type": "stream",
     "text": [
      "False\n",
      "True\n",
      "True\n",
      "False\n",
      "True\n",
      "False\n"
     ]
    }
   ],
   "source": [
    "a = 10\n",
    "b = 3\n",
    "\n",
    "print(a == b) # Equal to: False\n",
    "print(a != b) # Not equal to: True\n",
    "print(a > b)  # Greater than: True\n",
    "print(a < b)  # Less than: False\n",
    "print(a >= b) # Greater than or equal to: True\n",
    "print(a <= b) # Less than or equal to: False\n"
   ]
  },
  {
   "cell_type": "markdown",
   "metadata": {
    "id": "Q-nyyKuO8tG8"
   },
   "source": [
    "#3. Logical Operators\n",
    "Logical operators are used to combine conditional statements."
   ]
  },
  {
   "cell_type": "code",
   "execution_count": null,
   "metadata": {
    "colab": {
     "base_uri": "https://localhost:8080/"
    },
    "id": "BxNrt-ha8sTX",
    "outputId": "83dad354-0947-4a18-9908-872a1dab0c4d"
   },
   "outputs": [
    {
     "name": "stdout",
     "output_type": "stream",
     "text": [
      "False\n",
      "True\n",
      "False\n"
     ]
    }
   ],
   "source": [
    "a = True\n",
    "b = False\n",
    "\n",
    "print(a and b) # Logical AND: False\n",
    "print(a or b)  # Logical OR: True\n",
    "print(not a)   # Logical NOT: False\n"
   ]
  },
  {
   "cell_type": "markdown",
   "metadata": {
    "id": "T0GHOM9P8yX1"
   },
   "source": [
    "#4. Assignment Operators\n",
    "Assignment operators are used to assign values to variables."
   ]
  },
  {
   "cell_type": "code",
   "execution_count": null,
   "metadata": {
    "colab": {
     "base_uri": "https://localhost:8080/"
    },
    "id": "pEM-lHIS82Tb",
    "outputId": "606c4824-241b-4e8b-8fb1-f763e44c7004"
   },
   "outputs": [
    {
     "name": "stdout",
     "output_type": "stream",
     "text": [
      "15\n",
      "12\n",
      "24\n",
      "6.0\n",
      "2.0\n",
      "8.0\n",
      "4.0\n"
     ]
    }
   ],
   "source": [
    "a = 10\n",
    "a += 5  # Equivalent to: a = a + 5\n",
    "print(a) # Output: 15\n",
    "\n",
    "a -= 3  # Equivalent to: a = a - 3\n",
    "print(a) # Output: 12\n",
    "\n",
    "a *= 2  # Equivalent to: a = a * 2\n",
    "print(a) # Output: 24\n",
    "\n",
    "a /= 4  # Equivalent to: a = a / 4\n",
    "print(a) # Output: 6.0\n",
    "\n",
    "a %= 4  # Equivalent to: a = a % 4\n",
    "print(a) # Output: 2.0\n",
    "\n",
    "a **= 3 # Equivalent to: a = a ** 3\n",
    "print(a) # Output: 8.0\n",
    "\n",
    "a //= 2 # Equivalent to: a = a // 2\n",
    "print(a) # Output: 4.0\n"
   ]
  },
  {
   "cell_type": "markdown",
   "metadata": {
    "id": "2vFovDo19Hy7"
   },
   "source": [
    "#5. Operator Precedence\n",
    "Operator precedence determines the order in which operations are performed. Here is a simple example to demonstrate it:"
   ]
  },
  {
   "cell_type": "code",
   "execution_count": 6,
   "metadata": {
    "colab": {
     "base_uri": "https://localhost:8080/"
    },
    "id": "zcwuVwYs9JXl",
    "outputId": "a10f8aa7-bb59-4e35-f417-40ce8152d4fd"
   },
   "outputs": [
    {
     "name": "stdout",
     "output_type": "stream",
     "text": [
      "50.0\n",
      "77.0\n"
     ]
    }
   ],
   "source": [
    "result = 5 + 3 * 4 ** 2 - 6 / 2\n",
    "print(result)  # 50.0\n",
    "\n",
    "#This expression is evaluated as:\n",
    "#4 ** 2 = 16 (exponentiation)\n",
    "#3 * 16 = 48 (multiplication)\n",
    "#6 / 2 = 3 (division)\n",
    "#2 + 48 - 3 = 47 (addition and subtraction from left to right)\n",
    "\n",
    "#We can always use parentheses to explicitly define the order of operations if needed.Parentheses change the order of operations.\n",
    "\n",
    "\n",
    "resultp = (2 + 3) * 4 ** 2 - 6 / 2\n",
    "print(resultp)"
   ]
  },
  {
   "cell_type": "code",
   "execution_count": null,
   "metadata": {
    "colab": {
     "base_uri": "https://localhost:8080/"
    },
    "id": "S7fIrqiz_vjQ",
    "outputId": "556a7a48-5c74-44c9-e81e-36150bda56cd"
   },
   "outputs": [
    {
     "name": "stdout",
     "output_type": "stream",
     "text": [
      "True\n",
      "False\n"
     ]
    }
   ],
   "source": [
    "#Write a function to check if a given number is prime.\n",
    "\n",
    "def is_prime(n):\n",
    "    # Check if the number is less than or equal to 1\n",
    "    if n <= 1:\n",
    "        return False\n",
    "\n",
    "    # Iterate through all numbers from 2 to the square root of n\n",
    "    for i in range(2, int(n**0.5) + 1):\n",
    "        # Check if i divides n evenly\n",
    "        if n % i == 0:\n",
    "            return False\n",
    "\n",
    "    # If no divisors are found, the number is prime\n",
    "    return True\n",
    "\n",
    "# Example usage\n",
    "print(is_prime(11))  # Output: True (11 is a prime number)\n",
    "print(is_prime(15))  # Output: False (15 is not a prime number)\n"
   ]
  },
  {
   "cell_type": "markdown",
   "metadata": {
    "id": "Co-1y5RQG1Nv"
   },
   "source": [
    "#if statements"
   ]
  },
  {
   "cell_type": "code",
   "execution_count": 10,
   "metadata": {
    "colab": {
     "base_uri": "https://localhost:8080/"
    },
    "id": "5VGbt2sJ3O3I",
    "outputId": "68919ead-ea79-426a-f3e5-93e3ae4aec50"
   },
   "outputs": [
    {
     "name": "stdout",
     "output_type": "stream",
     "text": [
      "45\n"
     ]
    }
   ],
   "source": [
    "#if\n",
    "\n",
    "def second_largest(lst):\n",
    "\n",
    "    if len(lst) < 2:\n",
    "        return None  # Not enough elements to find the second largest\n",
    "\n",
    "    # Remove duplicates by converting to a set\n",
    "    unique_elements = list(set(lst))\n",
    "\n",
    "    if len(unique_elements) < 2:\n",
    "        return None  # Not enough unique elements to find the second largest\n",
    "\n",
    "    # Find the largest element\n",
    "    largest = max(unique_elements)\n",
    "\n",
    "    # Remove the largest element\n",
    "    unique_elements.remove(largest)\n",
    "\n",
    "    # Find the second largest element\n",
    "    second_largest = max(unique_elements)\n",
    "\n",
    "    return second_largest\n",
    "\n",
    "# Example usage\n",
    "print(second_largest([10, 20, 4, 45, 99]))"
   ]
  },
  {
   "cell_type": "code",
   "execution_count": 12,
   "metadata": {
    "colab": {
     "base_uri": "https://localhost:8080/"
    },
    "id": "-dqhTMZeavOP",
    "outputId": "7577a4e7-a2b4-4be1-9d74-13215d5b7c46"
   },
   "outputs": [
    {
     "name": "stdout",
     "output_type": "stream",
     "text": [
      "Even\n",
      "Odd\n"
     ]
    }
   ],
   "source": [
    "#if else\n",
    "def check_even_odd(number):\n",
    "    return \"Even\" if number % 2 == 0 else \"Odd\"\n",
    "\n",
    "# Example usage\n",
    "print(check_even_odd(42))\n",
    "print(check_even_odd(33))\n"
   ]
  },
  {
   "cell_type": "code",
   "execution_count": 14,
   "metadata": {
    "colab": {
     "base_uri": "https://localhost:8080/"
    },
    "id": "YW1XAL0YZEpg",
    "outputId": "9c9d0eb9-564a-4139-bfbf-72d734521d1e"
   },
   "outputs": [
    {
     "name": "stdout",
     "output_type": "stream",
     "text": [
      "20\n",
      "30\n"
     ]
    }
   ],
   "source": [
    "#if else\n",
    "def max_of_two(a, b):\n",
    "    return a if a > b else b\n",
    "\n",
    "# Example\n",
    "print(max_of_two(10, 20))\n",
    "print(max_of_two(30, 15))\n"
   ]
  },
  {
   "cell_type": "code",
   "execution_count": null,
   "metadata": {
    "colab": {
     "base_uri": "https://localhost:8080/"
    },
    "id": "t3Udi2hAZVUA",
    "outputId": "78d66976-6ddc-4d8e-bed7-ce099625653b"
   },
   "outputs": [
    {
     "name": "stdout",
     "output_type": "stream",
     "text": [
      "Please enter your current temperature in Celsius: 20\n",
      "It's cool. A light jacket would be good.\n"
     ]
    }
   ],
   "source": [
    "#nested if else\n",
    "temperature = float(input(\"Please enter your current temperature in Celsius: \"))\n",
    "\n",
    "if temperature < 0:\n",
    "    print(\"It's freezing! Wear warm layers.\")\n",
    "elif 0 <= temperature <= 10:\n",
    "    print(\"It's very cold. Wear a heavy jacket.\")\n",
    "elif 11 <= temperature <= 20:\n",
    "    print(\"It's cool. A light jacket would be good.\")\n",
    "elif 21 <= temperature <= 30:\n",
    "    print(\"It's pleasant. Enjoy the weather!\")\n",
    "else:  # temperature > 30\n",
    "    print(\"It's hot. Stay hydrated!\")"
   ]
  },
  {
   "cell_type": "code",
   "execution_count": null,
   "metadata": {
    "colab": {
     "base_uri": "https://localhost:8080/"
    },
    "id": "Fvyihefj32SM",
    "outputId": "dbfc8cdc-1d0f-4516-f8dd-8c4bae951613"
   },
   "outputs": [
    {
     "name": "stdout",
     "output_type": "stream",
     "text": [
      "enter your score:10\n",
      "F\n"
     ]
    }
   ],
   "source": [
    "#nested if else\n",
    "def determine_grade(score):\n",
    "  #Determine the grade based on the score.\n",
    "  #Parameters:score (int): The score of the student.\n",
    "  #Returns:str: The grade corresponding to the score.\n",
    "\n",
    "    if score >= 90:\n",
    "        grade = \"A\"\n",
    "    elif score >= 80:\n",
    "        grade = \"B\"\n",
    "    elif score >= 70:\n",
    "        grade = \"C\"\n",
    "    elif score >= 60:\n",
    "        grade = \"D\"\n",
    "    else:\n",
    "        grade = \"F\"\n",
    "    return grade\n",
    "\n",
    "# Example\n",
    "score=int(input(\"enter your score:\"))\n",
    "print(determine_grade(score))"
   ]
  },
  {
   "cell_type": "markdown",
   "metadata": {
    "id": "vKq12HUs39Ou"
   },
   "source": [
    "#complex conditional expressions.\n"
   ]
  },
  {
   "cell_type": "code",
   "execution_count": null,
   "metadata": {
    "colab": {
     "base_uri": "https://localhost:8080/"
    },
    "id": "K3eFxCcjb_18",
    "outputId": "e84750b1-846f-45fa-e431-d7f95f17dd60"
   },
   "outputs": [
    {
     "name": "stdout",
     "output_type": "stream",
     "text": [
      "Valid\n",
      "Invalid\n"
     ]
    }
   ],
   "source": [
    "def validate_input(username, password):\n",
    "\n",
    "    if len(username) >= 5 and len(password) >= 8:\n",
    "        return \"Valid\"\n",
    "    else:\n",
    "        return \"Invalid\"  #Returns: str: \"Valid\" if both username and password meet criteria, otherwise \"Invalid\".\n",
    "\n",
    "# Example\n",
    "print(validate_input(\"user1\", \"password123\")) #The username and password to validate.\n",
    "print(validate_input(\"usr\", \"pwd123\"))"
   ]
  },
  {
   "cell_type": "code",
   "execution_count": null,
   "metadata": {
    "colab": {
     "base_uri": "https://localhost:8080/"
    },
    "id": "05NhSGc4b4T7",
    "outputId": "435a49ed-c70e-4d74-cd92-d12411150fe6"
   },
   "outputs": [
    {
     "name": "stdout",
     "output_type": "stream",
     "text": [
      "Eligible\n",
      "Not Eligible\n"
     ]
    }
   ],
   "source": [
    "def check_discount_eligibility(age, is_student, is_member):\n",
    "    #Determine eligibility for a discount based on age, student status, and membership.\n",
    "    #Returns:str: \"Eligible\" if the person is eligible for a discount, otherwise \"Not Eligible\".\n",
    "\n",
    "    if (age < 18 or age >= 65) or is_student or is_member:\n",
    "        return \"Eligible\"\n",
    "    else:\n",
    "        return \"Not Eligible\"\n",
    "\n",
    "# Example\n",
    "print(check_discount_eligibility(20, False, True))\n",
    "print(check_discount_eligibility(30, False, False))\n"
   ]
  },
  {
   "cell_type": "markdown",
   "metadata": {
    "id": "zcypvI025rre"
   },
   "source": [
    "#loops"
   ]
  },
  {
   "cell_type": "code",
   "execution_count": null,
   "metadata": {
    "colab": {
     "base_uri": "https://localhost:8080/"
    },
    "id": "Eqq0F-V-d26G",
    "outputId": "c1d07ac4-616a-4a5d-f2d6-f931ff171d06"
   },
   "outputs": [
    {
     "name": "stdout",
     "output_type": "stream",
     "text": [
      "Enter your word: python\n",
      "The number of vowels in the given word is: 1\n"
     ]
    }
   ],
   "source": [
    "#for loop\n",
    "#function that counts the number of vowels in a given string.\n",
    "\n",
    "def count_vowels(word):\n",
    "    vowels = [\"a\", \"e\", \"i\", \"o\", \"u\"]\n",
    "    count = 0\n",
    "    for char in word.lower():  # Convert to lowercase to handle case-insensitivity\n",
    "        if char in vowels:\n",
    "            count += 1\n",
    "    return count\n",
    "\n",
    "# Input from the user\n",
    "word = input(\"Enter your word: \")\n",
    "vowel_count = count_vowels(word)\n",
    "print(f\"The number of vowels in the given word is: {vowel_count}\")"
   ]
  },
  {
   "cell_type": "code",
   "execution_count": null,
   "metadata": {
    "colab": {
     "base_uri": "https://localhost:8080/"
    },
    "id": "XmvckPtSzX8A",
    "outputId": "0e6058ca-6d0f-4cf5-8c49-03aebe5f7b27"
   },
   "outputs": [
    {
     "name": "stdout",
     "output_type": "stream",
     "text": [
      "6\n",
      "2\n"
     ]
    }
   ],
   "source": [
    "#while\n",
    "#Calculate GCD of Two Numbers.\n",
    "def gcd(a, b):\n",
    "   while b != 0:\n",
    "        a, b = b, a % b\n",
    "   return a\n",
    "# Example\n",
    "print(gcd(48, 18))\n",
    "print(gcd(54, 14))"
   ]
  },
  {
   "cell_type": "code",
   "execution_count": null,
   "metadata": {
    "colab": {
     "base_uri": "https://localhost:8080/"
    },
    "id": "3EDKJnRq05hR",
    "outputId": "d281a80f-6d94-4963-b83e-5828530363ca"
   },
   "outputs": [
    {
     "name": "stdout",
     "output_type": "stream",
     "text": [
      "Welcome to the Number Guessing Game!\n",
      "Guess a number between 1 and 50: 60\n",
      "Please enter a number between 1 and 50.\n",
      "Guess a number between 1 and 50: -5\n",
      "Please enter a number between 1 and 50.\n",
      "Guess a number between 1 and 50: 5\n",
      "Too low!\n",
      "Guess a number between 1 and 50: 20\n",
      "Too high!\n",
      "Guess a number between 1 and 50: 15\n",
      "Too high!\n",
      "Guess a number between 1 and 50: 14\n",
      "Too high!\n",
      "Guess a number between 1 and 50: 11\n",
      "Too low!\n",
      "Guess a number between 1 and 50: 12\n",
      "Congratulations! You guessed the correct number in 8 attempts.\n",
      "Do you want to play again? (yes/no): no\n",
      "Thanks for playing!\n"
     ]
    }
   ],
   "source": [
    "#Number Guessing\n",
    "import random\n",
    "\n",
    "def guessing_game():\n",
    "    print(\"Welcome to the Number Guessing Game!\")\n",
    "    play_again = 'yes'\n",
    "\n",
    "    while play_again.lower() == 'yes':\n",
    "        number_to_guess = random.randint(1, 50)\n",
    "        attempts = 0\n",
    "        guess = None\n",
    "\n",
    "        while guess != number_to_guess:\n",
    "            try:\n",
    "                guess = int(input(\"Guess a number between 1 and 50: \"))\n",
    "                attempts += 1\n",
    "\n",
    "                if guess < 1 or guess > 50:\n",
    "                    print(\"Please enter a number between 1 and 50.\")\n",
    "                elif guess < number_to_guess:\n",
    "                    print(\"low!\")\n",
    "                elif guess > number_to_guess:\n",
    "                    print(\"high!\")\n",
    "            except ValueError:\n",
    "                print(\"Please enter a valid number.\")\n",
    "\n",
    "        print(f\"Congratulations! You guessed the correct number in {attempts} attempts.\")\n",
    "        play_again = input(\"Do you want to play again? (yes/no): \")\n",
    "\n",
    "    print(\"Thanks for playing!\")\n",
    "\n",
    "# Example usage\n",
    "guessing_game()\n"
   ]
  },
  {
   "cell_type": "code",
   "execution_count": null,
   "metadata": {
    "colab": {
     "base_uri": "https://localhost:8080/"
    },
    "id": "lWcAzQMz1q-k",
    "outputId": "32e3003a-05f8-44ef-9f1b-d2900abecce9"
   },
   "outputs": [
    {
     "name": "stdout",
     "output_type": "stream",
     "text": [
      "(d, r)\n",
      "(d, a)\n",
      "(r, a)\n"
     ]
    }
   ],
   "source": [
    "#nested loops\n",
    "#Generate all combinations of pairs from a list of items.\n",
    "def generate_combinations(items):\n",
    "\n",
    "    for i in range(len(items)):\n",
    "        for j in range(i + 1, len(items)):\n",
    "            print(f\"({items[i]}, {items[j]})\")\n",
    "\n",
    "# Example usage\n",
    "generate_combinations(['d', 'r', 'a'])\n"
   ]
  },
  {
   "cell_type": "markdown",
   "metadata": {
    "id": "JRweqxsP7AdF"
   },
   "source": [
    "#using break and continue with loops\n",
    "Break Statement: Exits the loop immediately when a condition is met. Useful for stopping the loop early.\n",
    "\n",
    "Continue Statement: Skips the current iteration and moves to the next iteration. Useful for skipping specific conditions without stopping the loop."
   ]
  },
  {
   "cell_type": "code",
   "execution_count": null,
   "metadata": {
    "colab": {
     "base_uri": "https://localhost:8080/"
    },
    "id": "TiF00CDD7CEV",
    "outputId": "06609c3d-edda-4ba4-8c9c-b32e9a5bd156"
   },
   "outputs": [
    {
     "name": "stdout",
     "output_type": "stream",
     "text": [
      "Welcome to the Simple Calculator\n",
      "Select operation:\n",
      "1. Addition\n",
      "2. Subtraction\n",
      "3. Multiplication\n",
      "4. Division\n",
      "Enter choice (1/2/3/4) or 'q' to quit: q\n",
      "Exiting the calculator. Goodbye!\n"
     ]
    }
   ],
   "source": [
    "#simple calculator\n",
    "def add(x, y):\n",
    "    #Add two numbers.\n",
    "   return x + y\n",
    "\n",
    "def subtract(x, y):\n",
    "    #Subtract two numbers.\n",
    "    return x - y\n",
    "\n",
    "def multiply(x, y):\n",
    "    #Multiply two numbers.\n",
    "    return x * y\n",
    "\n",
    "def divide(x, y):\n",
    "    #Divide two numbers.\n",
    "    if y == 0:\n",
    "        return \"Error! Division by zero.\"\n",
    "    return x / y\n",
    "\n",
    "def calculator():\n",
    "    print(\"Welcome to the Simple Calculator\")\n",
    "    print(\"Select operation:\")\n",
    "    print(\"1. Addition\")\n",
    "    print(\"2. Subtraction\")\n",
    "    print(\"3. Multiplication\")\n",
    "    print(\"4. Division\")\n",
    "\n",
    "    while True:\n",
    "        choice = input(\"Enter choice (1/2/3/4) or 'q' to quit: \")\n",
    "\n",
    "        if choice == 'q':\n",
    "            print(\"Exiting the calculator. Goodbye!\")\n",
    "            break\n",
    "        if choice in ['1', '2', '3', '4']:\n",
    "            try:\n",
    "                num1 = float(input(\"Enter first number: \"))\n",
    "                num2 = float(input(\"Enter second number: \"))\n",
    "            except ValueError:\n",
    "                print(\"Invalid number. Please enter numeric values.\")\n",
    "                continue\n",
    "\n",
    "            if choice == '1':\n",
    "                print(f\"{num1} + {num2} = {add(num1, num2)}\")\n",
    "            elif choice == '2':\n",
    "                print(f\"{num1} - {num2} = {subtract(num1, num2)}\")\n",
    "            elif choice == '3':\n",
    "                print(f\"{num1} * {num2} = {multiply(num1, num2)}\")\n",
    "            elif choice == '4':\n",
    "                print(f\"{num1} / {num2} = {divide(num1, num2)}\")\n",
    "        else:\n",
    "            print(\"Invalid Input\")\n",
    "            continue\n",
    "\n",
    "# Run the calculator\n",
    "calculator()\n"
   ]
  },
  {
   "cell_type": "markdown",
   "metadata": {
    "id": "dzoFo1_Q6hHR"
   },
   "source": [
    "#Lists\n",
    "Lists are used to store multiple items in a single variable.Lists are created using square brackets,List items are indexed, the first item has index [0], the second item has index [1] etc.\n",
    "List items are ordered, changeable, and allow duplicate values.\n",
    "\n",
    "Shopping list\n",
    "groceries = ['apples', 'milk', 'bread', 'eggs']"
   ]
  },
  {
   "cell_type": "code",
   "execution_count": null,
   "metadata": {
    "id": "qTjSd9Ac67Wa"
   },
   "outputs": [],
   "source": [
    "# Shopping list\n",
    "groceries = ['apples', 'milk', 'bread', 'eggs']\n",
    "\n",
    "# Monthly expenses\n",
    "expenses = [1200.50, 300.75, 500.00, 150.25]\n",
    "\n",
    "# Student grades\n",
    "grades = [85, 92, 78, 95, 88]\n",
    "\n",
    "# Mixed data types\n",
    "employee = ['John Doe', 35, 'Software Engineer', 75000.00]"
   ]
  },
  {
   "cell_type": "code",
   "execution_count": null,
   "metadata": {
    "colab": {
     "base_uri": "https://localhost:8080/"
    },
    "id": "qR6QsaNt7CAU",
    "outputId": "b8097263-888f-4736-9816-2830bb67c491"
   },
   "outputs": [
    {
     "name": "stdout",
     "output_type": "stream",
     "text": [
      "First item on the shopping list: apples\n",
      "Last expense: $150.25\n",
      "Updated grades: [85, 92, 80, 95, 88]\n"
     ]
    }
   ],
   "source": [
    "#INDEXING\n",
    "# Accessing elements\n",
    "print(f\"First item on the shopping list: {groceries[0]}\")\n",
    "print(f\"Last expense: ${expenses[-1]}\")\n",
    "\n",
    "# Modifying elements\n",
    "grades[2] = 80  # Updating a student's grade\n",
    "print(f\"Updated grades: {grades}\")"
   ]
  },
  {
   "cell_type": "code",
   "execution_count": null,
   "metadata": {
    "colab": {
     "base_uri": "https://localhost:8080/"
    },
    "id": "MbbAiPZe7IKI",
    "outputId": "08785a0b-4e0d-4e3b-a568-11dabb26e840"
   },
   "outputs": [
    {
     "name": "stdout",
     "output_type": "stream",
     "text": [
      "First three items to buy: ['apples', 'milk', 'bread']\n",
      "Expenses excluding rent: [300.75, 500.0, 150.25]\n",
      "Alternate grades: [85, 80, 88]\n"
     ]
    }
   ],
   "source": [
    "#Slicing\n",
    "# Get the first three groceries\n",
    "print(f\"First three items to buy: {groceries[:3]}\")\n",
    "\n",
    "# Get all expenses except the first one\n",
    "print(f\"Expenses excluding rent: {expenses[1:]}\")\n",
    "\n",
    "# Get every other grade\n",
    "print(f\"Alternate grades: {grades[::2]}\")"
   ]
  },
  {
   "cell_type": "code",
   "execution_count": null,
   "metadata": {
    "colab": {
     "base_uri": "https://localhost:8080/"
    },
    "id": "Z72zPv0x7RyP",
    "outputId": "575f04c9-471c-422d-aeae-fe115ce53777"
   },
   "outputs": [
    {
     "name": "stdout",
     "output_type": "stream",
     "text": [
      "Updated shopping list: ['apples', 'milk', 'bread', 'eggs', 'cheese']\n",
      "Updated expenses: [1200.5, 200.0, 300.75, 500.0, 150.25]\n",
      "Extended grades: [85, 92, 80, 95, 88, 91, 87]\n"
     ]
    }
   ],
   "source": [
    "#Adding Elements\n",
    "# Append an item to the shopping list\n",
    "groceries.append('cheese')\n",
    "print(f\"Updated shopping list: {groceries}\")\n",
    "\n",
    "# Insert a new expense at a specific position\n",
    "expenses.insert(1, 200.00)  # Insert at index 1\n",
    "print(f\"Updated expenses: {expenses}\")\n",
    "\n",
    "# Extend the grades list with new scores\n",
    "new_grades = [91, 87]\n",
    "grades.extend(new_grades)\n",
    "print(f\"Extended grades: {grades}\")"
   ]
  },
  {
   "cell_type": "code",
   "execution_count": null,
   "metadata": {
    "colab": {
     "base_uri": "https://localhost:8080/"
    },
    "id": "4WMdqjUh7X50",
    "outputId": "1f00c7d4-5aa8-45ef-de45-91b38fdeaf4b"
   },
   "outputs": [
    {
     "name": "stdout",
     "output_type": "stream",
     "text": [
      "Shopping list after removing bread: ['apples', 'milk', 'eggs', 'cheese']\n",
      "Last expense removed: $150.25\n",
      "Remaining expenses: [1200.5, 200.0, 300.75, 500.0]\n",
      "Removed grade: 80\n",
      "Remaining grades: [85, 92, 95, 88, 91, 87]\n",
      "Cleared employee list: []\n"
     ]
    }
   ],
   "source": [
    "#Removing Elements\n",
    "# Remove a specific item\n",
    "groceries.remove('bread')\n",
    "print(f\"Shopping list after removing bread: {groceries}\")\n",
    "\n",
    "# Remove and return the last item\n",
    "last_expense = expenses.pop()\n",
    "print(f\"Last expense removed: ${last_expense}\")\n",
    "print(f\"Remaining expenses: {expenses}\")\n",
    "\n",
    "# Remove an item at a specific index\n",
    "removed_grade = grades.pop(2)\n",
    "print(f\"Removed grade: {removed_grade}\")\n",
    "print(f\"Remaining grades: {grades}\")\n",
    "\n",
    "# Clear the entire list\n",
    "employee.clear()\n",
    "print(f\"Cleared employee list: {employee}\")"
   ]
  },
  {
   "cell_type": "code",
   "execution_count": null,
   "metadata": {
    "colab": {
     "base_uri": "https://localhost:8080/"
    },
    "id": "KHH5Bzmz7dZm",
    "outputId": "cc279d36-c944-4a99-b9a7-f04bf63b1a85"
   },
   "outputs": [
    {
     "name": "stdout",
     "output_type": "stream",
     "text": [
      "Number of apples: 3\n",
      "Index of banana: 1\n",
      "Sorted grades: [85, 87, 88, 91, 92, 95]\n",
      "Reversed shopping list: ['cheese', 'eggs', 'milk', 'apples']\n",
      "Copy of expenses: [1200.5, 200.0, 300.75, 500.0]\n"
     ]
    }
   ],
   "source": [
    "#built-in methods\n",
    "# Count occurrences\n",
    "fruit_basket = ['apple', 'banana', 'apple', 'orange', 'apple']\n",
    "apple_count = fruit_basket.count('apple')\n",
    "print(f\"Number of apples: {apple_count}\")\n",
    "\n",
    "# Find index of an element\n",
    "banana_index = fruit_basket.index('banana')\n",
    "print(f\"Index of banana: {banana_index}\")\n",
    "\n",
    "# Sort a list\n",
    "grades.sort()\n",
    "print(f\"Sorted grades: {grades}\")\n",
    "\n",
    "# Reverse a list\n",
    "groceries.reverse()\n",
    "print(f\"Reversed shopping list: {groceries}\")\n",
    "\n",
    "# Create a copy of a list\n",
    "expenses_copy = expenses.copy()\n",
    "print(f\"Copy of expenses: {expenses_copy}\")"
   ]
  },
  {
   "cell_type": "code",
   "execution_count": null,
   "metadata": {
    "colab": {
     "base_uri": "https://localhost:8080/"
    },
    "id": "uiMTgYSB73jB",
    "outputId": "f9357a21-49c0-4ab8-b92e-0d5339884fb1"
   },
   "outputs": [
    {
     "name": "stdout",
     "output_type": "stream",
     "text": [
      "1\n",
      "2\n"
     ]
    }
   ],
   "source": [
    "#Write a function that identifies and returns duplicate values from a list.\n",
    "dup = [1, 2, 3, 1, 2, 4]\n",
    "\n",
    "def duplicates(dup):\n",
    "    length = len(dup)\n",
    "    seen = set()  # Keep track of elements we've seen\n",
    "    duplicates = set()  # Keep track of duplicates\n",
    "\n",
    "    for i in range(length):\n",
    "        if dup[i] in seen:\n",
    "            duplicates.add(dup[i])\n",
    "        else:\n",
    "            seen.add(dup[i])\n",
    "\n",
    "    # Print the duplicates\n",
    "    for item in duplicates:\n",
    "        print(item)\n",
    "\n",
    "# Call the function\n",
    "duplicates(dup)"
   ]
  },
  {
   "cell_type": "code",
   "execution_count": 80,
   "metadata": {
    "colab": {
     "base_uri": "https://localhost:8080/"
    },
    "id": "cnJ8bd0R8BP2",
    "outputId": "8e9366fc-c723-412b-d0b3-0bd1d4754570"
   },
   "outputs": [
    {
     "name": "stdout",
     "output_type": "stream",
     "text": [
      "Current tasks:\n",
      "1. Complete project proposal\n",
      "2. Schedule team meeting\n",
      "3. Review code changes\n",
      "\n",
      "Completed task: Schedule team meeting\n",
      "\n",
      "Updated task list:\n",
      "1. Prepare presentation for client\n",
      "2. Complete project proposal\n",
      "3. Review code changes\n",
      "\n",
      "Remaining tasks: 3\n"
     ]
    }
   ],
   "source": [
    "#task management\n",
    "tasks = []\n",
    "\n",
    "# Add tasks\n",
    "tasks.append(\"Complete project proposal\")\n",
    "tasks.append(\"Schedule team meeting\")\n",
    "tasks.append(\"Review code changes\")\n",
    "\n",
    "print(\"Current tasks:\")\n",
    "for index, task in enumerate(tasks, start=1):\n",
    "#enumerate adds a counter (index) to an iterable, making it easy to work with both the position and the value of items.\n",
    "    print(f\"{index}. {task}\")\n",
    "\n",
    "# Mark a task as complete\n",
    "completed_task = tasks.pop(1)\n",
    "print(f\"\\nCompleted task: {completed_task}\")\n",
    "\n",
    "# Add a new high-priority task\n",
    "tasks.insert(0, \"Prepare presentation for client\")\n",
    "\n",
    "print(\"\\nUpdated task list:\")\n",
    "for index, task in enumerate(tasks, start=1):\n",
    "    print(f\"{index}. {task}\")\n",
    "\n",
    "# Check the number of remaining tasks\n",
    "print(f\"\\nRemaining tasks: {len(tasks)}\")"
   ]
  },
  {
   "cell_type": "markdown",
   "metadata": {
    "id": "omMf9J9w9FK0"
   },
   "source": [
    "#tuples\n",
    "A tuple is a collection which is ordered and unchangeable.Tuples are written with round brackets.Tuples are particularly useful in data processing when you need to work with immutable records, optimize memory usage, and create keys for dictionaries. They help maintain data integrity and provide efficient lookup capabilities"
   ]
  },
  {
   "cell_type": "code",
   "execution_count": null,
   "metadata": {
    "id": "ULBpz08r9Fmq"
   },
   "outputs": [],
   "source": [
    "#Creating Tuples\n",
    "#Tuples are created by placing elements inside parentheses (), separated by commas.\n",
    "#You can also create a tuple without parentheses, simply separating elements with commas, but parentheses are recommended for readability.\n",
    "\n",
    "# Creating a tuple\n",
    "my_tuple = (1, 2, 3, \"apple\")\n",
    "single_element_tuple = (5,)  # Note the comma for a single-element tuple"
   ]
  },
  {
   "cell_type": "code",
   "execution_count": null,
   "metadata": {
    "colab": {
     "base_uri": "https://localhost:8080/"
    },
    "id": "DGZ-xn8EBQ2k",
    "outputId": "9054dab5-d57e-4f5a-b44c-dcec58d0794f"
   },
   "outputs": [
    {
     "name": "stdout",
     "output_type": "stream",
     "text": [
      "1\n",
      "apple\n"
     ]
    }
   ],
   "source": [
    "#Indexing tuples\n",
    "#Access elements in a tuple using indexing, similar to lists. Indexing starts at 0.\n",
    "\n",
    "print(my_tuple[0])  # Output: 1\n",
    "print(my_tuple[3])  # Output: \"apple\""
   ]
  },
  {
   "cell_type": "code",
   "execution_count": null,
   "metadata": {
    "colab": {
     "base_uri": "https://localhost:8080/"
    },
    "id": "k-OqVchhBRj2",
    "outputId": "5c4d00b1-526c-44d6-8bed-00c29d79c79d"
   },
   "outputs": [
    {
     "name": "stdout",
     "output_type": "stream",
     "text": [
      "(2, 3)\n",
      "(1, 2)\n",
      "(3, 'apple')\n"
     ]
    }
   ],
   "source": [
    "#Slicing tuples\n",
    "#Use slicing to access a subset of the tuple. The syntax is tuple[start:end], where start is inclusive and end is exclusive.\n",
    "\n",
    "print(my_tuple[1:3])  # Output: (2, 3)\n",
    "print(my_tuple[:2])   # Output: (1, 2)\n",
    "print(my_tuple[2:])   # Output: (3, \"apple\")"
   ]
  },
  {
   "cell_type": "code",
   "execution_count": null,
   "metadata": {
    "colab": {
     "base_uri": "https://localhost:8080/"
    },
    "id": "miy8qT5qBUhg",
    "outputId": "2d680aae-4506-4d0d-aa40-8471cd39aecb"
   },
   "outputs": [
    {
     "name": "stdout",
     "output_type": "stream",
     "text": [
      "(1, 2, 3, 'apple', 4, 'banana')\n"
     ]
    }
   ],
   "source": [
    "#Adding Elements to a Tuple\n",
    "#Tuples are immutable, so you cannot directly add elements. Instead, you can concatenate tuples to create a new one.\n",
    "\n",
    "new_tuple = my_tuple + (4, \"banana\")\n",
    "print(new_tuple)  # Output: (1, 2, 3, \"apple\", 4, \"banana\")"
   ]
  },
  {
   "cell_type": "code",
   "execution_count": null,
   "metadata": {
    "colab": {
     "base_uri": "https://localhost:8080/"
    },
    "id": "R6TloGovBW1h",
    "outputId": "865b14a5-ddc0-4421-e158-731670f27fea"
   },
   "outputs": [
    {
     "name": "stdout",
     "output_type": "stream",
     "text": [
      "(1, 2, 3)\n"
     ]
    }
   ],
   "source": [
    "#Removing Elements from a Tuple\n",
    "#Since tuples are immutable, you cannot directly remove elements.\n",
    "#A workaround is to convert the tuple to a list, modify it, and then convert it back to a tuple.\n",
    "\n",
    "temp_list = list(my_tuple)  # Convert to list\n",
    "temp_list.remove(\"apple\")   # Remove element\n",
    "my_tuple = tuple(temp_list)  # Convert back to tuple\n",
    "print(my_tuple)  # Output: (1, 2, 3)"
   ]
  },
  {
   "cell_type": "code",
   "execution_count": null,
   "metadata": {
    "colab": {
     "base_uri": "https://localhost:8080/"
    },
    "id": "aKHPsLZ7B_0B",
    "outputId": "6893a340-b1de-4b7d-8fae-8706301afcd3"
   },
   "outputs": [
    {
     "name": "stdout",
     "output_type": "stream",
     "text": [
      "2\n",
      "4\n"
     ]
    }
   ],
   "source": [
    "#Tuple Methods\n",
    "#count(value): Returns the number of occurrences of a value in the tuple.\n",
    "#index(value): Returns the first index of a value in the tuple.\n",
    "\n",
    "\n",
    "sample_tuple = (1, 2, 3, 3, \"apple\")\n",
    "print(sample_tuple.count(3))       # Output: 2\n",
    "print(sample_tuple.index(\"apple\"))  # Output: 4"
   ]
  },
  {
   "cell_type": "code",
   "execution_count": null,
   "metadata": {
    "colab": {
     "base_uri": "https://localhost:8080/"
    },
    "id": "9l4Z5va6BZy-",
    "outputId": "b91e39d9-d373-4394-e818-7c4d5b6f95a8"
   },
   "outputs": [
    {
     "name": "stdout",
     "output_type": "stream",
     "text": [
      "3\n",
      "False\n"
     ]
    }
   ],
   "source": [
    "#Additional Tuple Operations\n",
    "#Length of a Tuple: Use len() to get the number of elements.\n",
    "#Membership: Use in to check if an element exists within the tuple.\n",
    "\n",
    "print(len(my_tuple))         # Output: 4\n",
    "print(\"apple\" in my_tuple)   # Output: True"
   ]
  },
  {
   "cell_type": "code",
   "execution_count": null,
   "metadata": {
    "colab": {
     "base_uri": "https://localhost:8080/"
    },
    "id": "wftmS__YBc5x",
    "outputId": "83479cd3-20eb-4a33-bfdd-24bf622353ee"
   },
   "outputs": [
    {
     "name": "stdout",
     "output_type": "stream",
     "text": [
      "Original tuple: (10, 20, 30, 40, 50)\n",
      "Tuple after swapping: (50, 20, 30, 40, 10)\n"
     ]
    }
   ],
   "source": [
    "#function that swaps the first and last elements of a tuple.\n",
    "\n",
    "def swap_first_last(input_tuple):\n",
    "    \"\"\"\n",
    "    Swaps the first and last elements of a tuple.\n",
    "\n",
    "    :param input_tuple: Tuple of elements\n",
    "    :return: New tuple with first and last elements swapped\n",
    "    \"\"\"\n",
    "    if len(input_tuple) < 2:\n",
    "        return input_tuple  # No swap needed for tuples with fewer than 2 elements\n",
    "\n",
    "    # Swapping first and last elements\n",
    "    return (input_tuple[-1],) + input_tuple[1:-1] + (input_tuple[0],)\n",
    "\n",
    "# Test the function\n",
    "test_tuple = (10, 20, 30, 40, 50)\n",
    "swapped_tuple = swap_first_last(test_tuple)\n",
    "print(\"Original tuple:\", test_tuple)\n",
    "print(\"Tuple after swapping:\", swapped_tuple)"
   ]
  },
  {
   "cell_type": "code",
   "execution_count": null,
   "metadata": {
    "colab": {
     "base_uri": "https://localhost:8080/"
    },
    "id": "4GKOPnqzBgVX",
    "outputId": "798da230-ecab-44a7-863a-f7e7d4ffca6c"
   },
   "outputs": [
    {
     "name": "stdout",
     "output_type": "stream",
     "text": [
      "Sub-tuple with elements at even indices: (1, 3, 5)\n"
     ]
    }
   ],
   "source": [
    "#Python function to extract a sub-tuple from the tuple (1, 2, 3, 4, 5, 6) containing elements at even indices.\n",
    "\n",
    "def extract_even_indices(input_tuple):\n",
    "    # Extracts elements at even indices from the input tuple.\n",
    "    # :param input_tuple: Tuple of elements\n",
    "    # :return: Sub-tuple containing elements at even indices\n",
    "\n",
    "  return input_tuple[::2]\n",
    "\n",
    "# Test the function\n",
    "input_tuple = (1, 2, 3, 4, 5, 6)\n",
    "result = extract_even_indices(input_tuple)\n",
    "print(\"Sub-tuple with elements at even indices:\", result)"
   ]
  },
  {
   "cell_type": "code",
   "execution_count": null,
   "metadata": {
    "colab": {
     "base_uri": "https://localhost:8080/"
    },
    "id": "G9zEewd2BkZS",
    "outputId": "279adcfe-5fa6-417e-d3ba-3691dc0e95c8"
   },
   "outputs": [
    {
     "name": "stdout",
     "output_type": "stream",
     "text": [
      "Flattened tuple: (1, 2, 3, 4, 5, 6)\n"
     ]
    }
   ],
   "source": [
    "#program to flatten a nested tuple into a single tuple:\n",
    "\n",
    "def flatten_tuple(nested_tuple):\n",
    "\n",
    "    # Flattens a nested tuple into a single tuple.\n",
    "    # :param nested_tuple: A tuple containing other tuples\n",
    "    # :return: A flattened tuple with all elements\n",
    "    # Using a generator expression with tuple concatenation\n",
    "\n",
    "    return tuple(element for sub_tuple in nested_tuple for element in sub_tuple)\n",
    "\n",
    "# Test the function\n",
    "t = ((1, 2), (3, 4), (5, 6))\n",
    "flattened = flatten_tuple(t)\n",
    "print(\"Flattened tuple:\", flattened)"
   ]
  },
  {
   "cell_type": "markdown",
   "metadata": {
    "id": "XxOuwEcYDo3j"
   },
   "source": [
    "#sets\n",
    "A set is an unordered collection of unique elements in Python.Unlike lists or tuples, sets do not allow duplicate elements.\n",
    "Sets are defined using curly braces {} or the set() constructor.\n",
    "You can add or remove elements, but not modify existing ones directly."
   ]
  },
  {
   "cell_type": "code",
   "execution_count": null,
   "metadata": {
    "colab": {
     "base_uri": "https://localhost:8080/"
    },
    "id": "uKXkW17zCM1p",
    "outputId": "c2ef64dc-f750-4d41-f156-ccc2abb53435"
   },
   "outputs": [
    {
     "name": "stdout",
     "output_type": "stream",
     "text": [
      "Set with no duplicates: {1, 2, 3, 4}\n"
     ]
    }
   ],
   "source": [
    "#creating sets\n",
    "my_set = {1, 2, 3, 3, 4}\n",
    "print(\"Set with no duplicates:\", my_set)"
   ]
  },
  {
   "cell_type": "code",
   "execution_count": null,
   "metadata": {
    "colab": {
     "base_uri": "https://localhost:8080/"
    },
    "id": "024ty2o7CQiK",
    "outputId": "39a352b4-44eb-44c6-b9c7-3d6fdf7471b4"
   },
   "outputs": [
    {
     "name": "stdout",
     "output_type": "stream",
     "text": [
      "After adding: {1, 2, 3, 4}\n",
      "After removing 2: {1, 3, 4}\n",
      "After discarding 5: {1, 3, 4}\n",
      "Popped element: 1\n",
      "After popping: {3, 4}\n",
      "After clearing: set()\n"
     ]
    }
   ],
   "source": [
    "#Basic Operations on sets\n",
    "my_set = {1, 2, 3}\n",
    "my_set.add(4)\n",
    "print(\"After adding:\", my_set)\n",
    "\n",
    "my_set.remove(2)\n",
    "print(\"After removing 2:\", my_set)\n",
    "\n",
    "my_set.discard(5)  # Does nothing if 5 is not present\n",
    "print(\"After discarding 5:\", my_set)\n",
    "\n",
    "element = my_set.pop()\n",
    "print(\"Popped element:\", element)\n",
    "print(\"After popping:\", my_set)\n",
    "\n",
    "my_set.clear()\n",
    "print(\"After clearing:\", my_set)"
   ]
  },
  {
   "cell_type": "code",
   "execution_count": null,
   "metadata": {
    "colab": {
     "base_uri": "https://localhost:8080/"
    },
    "id": "cB0r2LmhDuwB",
    "outputId": "952ce73c-02cd-4dc8-f097-3eb76bba2b3c"
   },
   "outputs": [
    {
     "name": "stdout",
     "output_type": "stream",
     "text": [
      "Union: {1, 2, 3, 4, 5}\n",
      "Intersection: {3}\n",
      "Difference: {1, 2}\n",
      "Symmetric Difference: {1, 2, 4, 5}\n"
     ]
    }
   ],
   "source": [
    "#Set Operations:\n",
    "#Python sets support mathematical operations like union, intersection, and difference.\n",
    "\n",
    "set1 = {1, 2, 3}\n",
    "set2 = {3, 4, 5}\n",
    "\n",
    "print(\"Union:\", set1 | set2)          # {1, 2, 3, 4, 5}\n",
    "print(\"Intersection:\", set1 & set2)   # {3}\n",
    "print(\"Difference:\", set1 - set2)     # {1, 2}\n",
    "print(\"Symmetric Difference:\", set1 ^ set2)  # {1, 2, 4, 5}"
   ]
  },
  {
   "cell_type": "code",
   "execution_count": null,
   "metadata": {
    "colab": {
     "base_uri": "https://localhost:8080/"
    },
    "id": "yoAkOia-DxXl",
    "outputId": "a4860502-6955-4124-8e14-c91fb414816a"
   },
   "outputs": [
    {
     "name": "stdout",
     "output_type": "stream",
     "text": [
      "Is set1 a subset of set2? False\n",
      "Is set1 a superset of set2? False\n",
      "Are set1 and set2 disjoint? False\n"
     ]
    }
   ],
   "source": [
    "#  Set Methods example\n",
    "\n",
    "set1 = {1, 2, 3}\n",
    "set2 = {2, 3, 4}\n",
    "\n",
    "print(\"Is set1 a subset of set2?\", set1.issubset(set2))   # False\n",
    "print(\"Is set1 a superset of set2?\", set1.issuperset(set2))  # False\n",
    "print(\"Are set1 and set2 disjoint?\", set1.isdisjoint(set2))  # False"
   ]
  },
  {
   "cell_type": "code",
   "execution_count": null,
   "metadata": {
    "colab": {
     "base_uri": "https://localhost:8080/"
    },
    "id": "VCh4D2QwD0YI",
    "outputId": "94a91bec-d322-4fe7-8fff-7d0a62c91641"
   },
   "outputs": [
    {
     "name": "stdout",
     "output_type": "stream",
     "text": [
      "Original list: [10, 20, 20, 30, 40, 10, 50, 30]\n",
      "List after removing duplicates: [40, 10, 50, 20, 30]\n"
     ]
    }
   ],
   "source": [
    "#Python function to remove duplicates from a list using a set:\n",
    "\n",
    "def remove_duplicates(data):\n",
    "    # Removes duplicates from a list using a set.\n",
    "    # :param input_list: List of elements\n",
    "    # :return: List with duplicates removed\n",
    " return list(set(data))\n",
    "\n",
    "# Test the function\n",
    "data = [10, 20, 20, 30, 40, 10, 50, 30]\n",
    "unique_data = remove_duplicates(data)\n",
    "print(\"Original list:\", data)\n",
    "print(\"List after removing duplicates:\", unique_data)"
   ]
  },
  {
   "cell_type": "code",
   "execution_count": null,
   "metadata": {
    "colab": {
     "base_uri": "https://localhost:8080/"
    },
    "id": "LjIZQYylD4La",
    "outputId": "c1cd0679-7e0d-4a3c-8786-586ba5360734"
   },
   "outputs": [
    {
     "name": "stdout",
     "output_type": "stream",
     "text": [
      "False\n",
      "True\n"
     ]
    }
   ],
   "source": [
    "#set\n",
    "#Check if All Characters in a String Are Unique\n",
    "def are_all_characters_unique(s):\n",
    "  char_set = set()\n",
    "  for char in s:\n",
    "        if char in char_set:\n",
    "            return False\n",
    "        char_set.add(char)\n",
    "  return True\n",
    "\n",
    "# Example usage\n",
    "print(are_all_characters_unique(\"hello\"))\n",
    "print(are_all_characters_unique(\"world\"))"
   ]
  },
  {
   "cell_type": "markdown",
   "metadata": {
    "id": "tcVPUQiEFgee"
   },
   "source": [
    "#dictonaries\n",
    "A dictionary in Python is an unordered collection of key-value pairs. Each key is unique, and it is used to access its corresponding value.\n",
    "\n",
    "Syntax: A dictionary is created using curly braces {} with key-value pairs separated by a colon :.\n",
    "Unordered: Elements do not maintain any specific order.\n",
    "Mutable: You can change, add, and remove elements after the dictionary is created.\n",
    "Indexed by Keys: You access values using keys, not indices.\n",
    "No duplicate keys: Each key must be unique."
   ]
  },
  {
   "cell_type": "code",
   "execution_count": null,
   "metadata": {
    "colab": {
     "base_uri": "https://localhost:8080/"
    },
    "id": "-0iTpO9nENcB",
    "outputId": "da1f8ce6-a458-4228-ae89-b44ddc9a5bcc"
   },
   "outputs": [
    {
     "name": "stdout",
     "output_type": "stream",
     "text": [
      "{'name': 'Alice', 'age': 30, 'location': 'New York'}\n"
     ]
    }
   ],
   "source": [
    "#creating dictionaries\n",
    "\n",
    "my_dict = {'name': 'Alice', 'age': 30, 'location': 'New York'}\n",
    "print(my_dict)"
   ]
  },
  {
   "cell_type": "code",
   "execution_count": null,
   "metadata": {
    "colab": {
     "base_uri": "https://localhost:8080/"
    },
    "id": "Deb4ut0oE0D_",
    "outputId": "16f6c994-98b5-4acf-8df4-ce84b92983a0"
   },
   "outputs": [
    {
     "name": "stdout",
     "output_type": "stream",
     "text": [
      "Name: Alice\n",
      "Updated Dictionary: {'name': 'Alice', 'age': 30, 'location': 'New York', 'job': 'Engineer'}\n",
      "After age update: {'name': 'Alice', 'age': 31, 'location': 'New York', 'job': 'Engineer'}\n",
      "After removing location: {'name': 'Alice', 'age': 31, 'job': 'Engineer'}\n",
      "Is 'name' a key? True\n",
      "Keys: dict_keys(['name', 'age', 'job'])\n",
      "Values: dict_values(['Alice', 31, 'Engineer'])\n",
      "Items: dict_items([('name', 'Alice'), ('age', 31), ('job', 'Engineer')])\n"
     ]
    }
   ],
   "source": [
    "# Basic Dictionary Operations:\n",
    "\n",
    "# Create a dictionary\n",
    "my_dict = {'name': 'Alice', 'age': 30, 'location': 'New York'}\n",
    "\n",
    "# Access value by key\n",
    "print(\"Name:\", my_dict['name'])  # Output: Alice\n",
    "\n",
    "# Add a new key-value pair\n",
    "my_dict['job'] = 'Engineer'\n",
    "print(\"Updated Dictionary:\", my_dict)\n",
    "\n",
    "# Update an existing value\n",
    "my_dict['age'] = 31\n",
    "print(\"After age update:\", my_dict)\n",
    "\n",
    "# Remove a key-value pair\n",
    "del my_dict['location']\n",
    "print(\"After removing location:\", my_dict)\n",
    "\n",
    "# Check if a key exists\n",
    "print(\"Is 'name' a key?\", 'name' in my_dict)  # Output: True\n",
    "\n",
    "# Get keys, values, and items\n",
    "print(\"Keys:\", my_dict.keys())\n",
    "print(\"Values:\", my_dict.values())\n",
    "print(\"Items:\", my_dict.items())"
   ]
  },
  {
   "cell_type": "code",
   "execution_count": null,
   "metadata": {
    "colab": {
     "base_uri": "https://localhost:8080/"
    },
    "id": "UZFOYJNgE-1O",
    "outputId": "47e2f840-141d-441b-b2bb-5d1b62ad0b2d"
   },
   "outputs": [
    {
     "name": "stdout",
     "output_type": "stream",
     "text": [
      "Copied Dictionary: {'name': 'Alice', 'age': 31, 'job': 'Engineer'}\n",
      "Popped value: 31\n",
      "Dictionary after pop: {'name': 'Alice', 'job': 'Engineer'}\n",
      "Gender after setdefault: Female\n",
      "Dictionary after setdefault: {'name': 'Alice', 'job': 'Engineer', 'gender': 'Female'}\n",
      "Dictionary after update: {'name': 'Alice', 'job': 'Designer', 'gender': 'Female', 'city': 'Paris'}\n",
      "Dictionary after clear: {}\n"
     ]
    }
   ],
   "source": [
    "#Example of using some dictionary methods\n",
    "\n",
    "# Copy a dictionary\n",
    "copy_dict = my_dict.copy()\n",
    "print(\"Copied Dictionary:\", copy_dict)\n",
    "\n",
    "# Pop a key-value pair\n",
    "age_value = my_dict.pop('age')\n",
    "print(\"Popped value:\", age_value)\n",
    "print(\"Dictionary after pop:\", my_dict)\n",
    "\n",
    "# Add a default value for a non-existing key\n",
    "gender = my_dict.setdefault('gender', 'Female')\n",
    "print(\"Gender after setdefault:\", gender)\n",
    "print(\"Dictionary after setdefault:\", my_dict)\n",
    "\n",
    "# Update dictionary with new key-value pairs\n",
    "my_dict.update({'city': 'Paris', 'job': 'Designer'})\n",
    "print(\"Dictionary after update:\", my_dict)\n",
    "\n",
    "# Clear the dictionary\n",
    "my_dict.clear()\n",
    "print(\"Dictionary after clear:\", my_dict)"
   ]
  },
  {
   "cell_type": "code",
   "execution_count": null,
   "metadata": {
    "colab": {
     "base_uri": "https://localhost:8080/"
    },
    "id": "ZiMpoHvQFCOf",
    "outputId": "8ac7e12d-44d7-4a7c-8e16-2315b48339e0"
   },
   "outputs": [
    {
     "name": "stdout",
     "output_type": "stream",
     "text": [
      "Sorted dictionary by value: [('banana', 5), ('apple', 10), ('date', 15), ('cherry', 20)]\n"
     ]
    }
   ],
   "source": [
    "#Given a dictionary, write a function to sort it by its values\n",
    "\n",
    "def sort_dict_by_value(input_dict):\n",
    "    # Sorts a dictionary by its values in ascending order.\n",
    "    # :param input_dict: Dictionary to be sorted.\n",
    "    # :return: A list of tuples where each tuple is a key-value pair, sorted by value.\n",
    "\n",
    "    # Use sorted with lambda function to sort by value (ascending order)\n",
    "    sorted_items = sorted(input_dict.items(), key=lambda item: item[1])\n",
    "    return sorted_items\n",
    "\n",
    "# Test the function\n",
    "my_dict = {'apple': 10, 'banana': 5, 'cherry': 20, 'date': 15}\n",
    "sorted_dict = sort_dict_by_value(my_dict)\n",
    "# Print the sorted dictionary\n",
    "print(\"Sorted dictionary by value:\", sorted_dict)"
   ]
  },
  {
   "cell_type": "code",
   "execution_count": null,
   "metadata": {
    "colab": {
     "base_uri": "https://localhost:8080/"
    },
    "id": "KFvFyhzQFExG",
    "outputId": "e8ddd67b-8a89-4748-a60a-ca8ac0a7756c"
   },
   "outputs": [
    {
     "name": "stdout",
     "output_type": "stream",
     "text": [
      "{'b', 'c'}\n"
     ]
    }
   ],
   "source": [
    "#a function to find the common keys between two dictionaries.\n",
    "\n",
    "def common_keys(dict1, dict2):\n",
    "    return set(dict1.keys()) & set(dict2.keys())\n",
    "\n",
    "dict1 = {'a': 1, 'b': 2, 'c': 3}\n",
    "dict2 = {'b': 4, 'c': 5, 'd': 6}\n",
    "common = common_keys(dict1, dict2)\n",
    "print(common)"
   ]
  },
  {
   "cell_type": "code",
   "execution_count": null,
   "metadata": {
    "colab": {
     "base_uri": "https://localhost:8080/"
    },
    "id": "DODsR2d6FLCE",
    "outputId": "9e0839ae-ee38-4a8c-c10c-f21e60cceb3c"
   },
   "outputs": [
    {
     "name": "stdout",
     "output_type": "stream",
     "text": [
      "banana\n"
     ]
    }
   ],
   "source": [
    "#find the key with the maximum value in a dictionary\n",
    "my_dict = {'apple': 3, 'banana': 5, 'cherry': 2}\n",
    "max_key = max(my_dict, key=my_dict.get)\n",
    "print(max_key)  # Output: 'banana'"
   ]
  },
  {
   "cell_type": "markdown",
   "metadata": {
    "id": "538IOvA6FWdr"
   },
   "source": [
    "#String Methods\n",
    "Strings in Python are immutable, and Python provides a variety of built-in methods to manipulate them."
   ]
  },
  {
   "cell_type": "code",
   "execution_count": null,
   "metadata": {
    "colab": {
     "base_uri": "https://localhost:8080/"
    },
    "id": "T1zDqQuYFxVR",
    "outputId": "b1680b67-f431-4929-c11f-ac80fadb24fd"
   },
   "outputs": [
    {
     "name": "stdout",
     "output_type": "stream",
     "text": [
      "Hello Python World! - Welcome to Python!\n",
      "lo Py\n",
      "True\n",
      "HELLO PYTHON WORLD!\n",
      "Hello Python World!\n",
      "['Hello', 'Python', 'World!']\n",
      "Hello Python Universe!\n",
      "19\n",
      "True\n",
      "True\n"
     ]
    }
   ],
   "source": [
    "text = \"Hello Python World!\"\n",
    "\n",
    "# Concatenation\n",
    "greeting = text.strip() + \" - Welcome to Python!\"\n",
    "print(greeting)  # Output: Hello Python World! - Welcome to Python!\n",
    "\n",
    "# Slicing\n",
    "print(text[3:8])  # Output: Hello\n",
    "\n",
    "# Finding a substring\n",
    "print(\"Python\" in text)  # Output: True\n",
    "\n",
    "# Case conversion\n",
    "print(text.upper())  # Output: \"   HELLO PYTHON WORLD!   \"\n",
    "\n",
    "# Removing whitespace\n",
    "print(text.strip())  # Output: \"Hello Python World!\"\n",
    "\n",
    "# Splitting\n",
    "words = text.split()\n",
    "print(words)  # Output: ['Hello', 'Python', 'World!']\n",
    "\n",
    "# Replacing\n",
    "new_text = text.replace(\"World\", \"Universe\")\n",
    "print(new_text)  # Output: \"   Hello Python Universe!   \"\n",
    "\n",
    "# String length\n",
    "print(len(text))  # Output: 25\n",
    "\n",
    "#Other Useful String Methods\n",
    "#startswith(): Checks if a string starts with a specific prefix.\n",
    "#endswith(): Checks if a string ends with a specific suffix.\n",
    "# Checking for prefix and suffix\n",
    "text = \"Python Programming\"\n",
    "print(text.startswith(\"Python\"))  # Output: True\n",
    "print(text.endswith(\"gramming\"))  # Output: True"
   ]
  },
  {
   "cell_type": "code",
   "execution_count": null,
   "metadata": {
    "colab": {
     "base_uri": "https://localhost:8080/"
    },
    "id": "3FbtHoFvG9W1",
    "outputId": "19a25f07-5692-4dc4-f175-f606f2cb475e"
   },
   "outputs": [
    {
     "name": "stdout",
     "output_type": "stream",
     "text": [
      "programming\n"
     ]
    }
   ],
   "source": [
    "# Find the Longest Word in a Sentence\n",
    "\n",
    "def longest_word(sentence):\n",
    "    words = sentence.split()\n",
    "    longest = max(words, key=len)\n",
    "    return longest\n",
    "\n",
    "# Example\n",
    "sentence = \"I love programming in Python\"\n",
    "print(longest_word(sentence))  # Output: programming"
   ]
  },
  {
   "cell_type": "code",
   "execution_count": null,
   "metadata": {
    "colab": {
     "base_uri": "https://localhost:8080/"
    },
    "id": "bXcZ0TSiHIvF",
    "outputId": "e1c0676a-14df-45ac-c26f-2538483c1f17"
   },
   "outputs": [
    {
     "name": "stdout",
     "output_type": "stream",
     "text": [
      "True\n",
      "False\n"
     ]
    }
   ],
   "source": [
    "#Check if All Characters in a String Are Unique\n",
    "\n",
    "def are_all_unique(string):\n",
    "    return len(string) == len(set(string))\n",
    "\n",
    "# Example\n",
    "print(are_all_unique(\"abcdef\"))  # Output: True\n",
    "print(are_all_unique(\"aabbcc\"))  # Output: False"
   ]
  },
  {
   "cell_type": "code",
   "execution_count": null,
   "metadata": {
    "colab": {
     "base_uri": "https://localhost:8080/"
    },
    "id": "JATNjjHiHLFM",
    "outputId": "15ec2c20-a9a4-497c-c296-b7307ed20a3b"
   },
   "outputs": [
    {
     "name": "stdout",
     "output_type": "stream",
     "text": [
      "camel_case_string\n"
     ]
    }
   ],
   "source": [
    "#Convert CamelCase String to Snake_Case\n",
    "#To convert a CamelCase string to a snake_case string, you can use regular expressions to identify the uppercase letters and replace them\n",
    "#with an underscore followed by the lowercase version of that letter.\n",
    "\n",
    "import re\n",
    "#The re module provides functions to search for, match, and manipulate strings based on patterns.\n",
    "#It’s widely used in tasks such as text processing, input validation, and data extraction.\n",
    "\n",
    "def camel_to_snake(camel_str):\n",
    "    return re.sub(r'([a-z])([A-Z])', r'\\1_\\2', camel_str).lower()\n",
    "\n",
    "# Example\n",
    "camel_str = \"CamelCaseString\"\n",
    "print(camel_to_snake(camel_str))  # Output: camel_case_string"
   ]
  },
  {
   "cell_type": "code",
   "execution_count": null,
   "metadata": {
    "colab": {
     "base_uri": "https://localhost:8080/"
    },
    "id": "DEZiTE3DHSFP",
    "outputId": "156e7459-a12f-49d5-981e-5b23b2133d0c"
   },
   "outputs": [
    {
     "name": "stdout",
     "output_type": "stream",
     "text": [
      "Counter({'l': 2, 'h': 1, 'e': 1, 'o': 1})\n"
     ]
    }
   ],
   "source": [
    "#Count Occurrences of Each Character in a String\n",
    "#To count the occurrences of each character in a string, you can use the collections.Counter class.\n",
    "\n",
    "from collections import Counter\n",
    "\n",
    "def count_characters(string):\n",
    "    return Counter(string)\n",
    "\n",
    "# Example\n",
    "string = \"hello\"\n",
    "print(count_characters(string))  # Output: Counter({'l': 2, 'h': 1, 'e': 1, 'o': 1})"
   ]
  },
  {
   "cell_type": "code",
   "execution_count": null,
   "metadata": {
    "colab": {
     "base_uri": "https://localhost:8080/"
    },
    "id": "5mvr3fFlHWGl",
    "outputId": "7f3a0ec1-7f82-4cef-8ae2-4ab4dac2f273"
   },
   "outputs": [
    {
     "name": "stdout",
     "output_type": "stream",
     "text": [
      "3\n"
     ]
    }
   ],
   "source": [
    "#Calculate the Hamming Distance Between Two Strings\n",
    "#The Hamming distance between two strings is the number of positions at which the corresponding characters are different.\n",
    "#To calculate this, both strings must be of the same length.\n",
    "\n",
    "def hamming_distance(str1, str2):\n",
    "    if len(str1) != len(str2):\n",
    "        raise ValueError(\"Strings must be of the same length\")\n",
    "    return sum(c1 != c2 for c1, c2 in zip(str1, str2))\n",
    "\n",
    "# Example\n",
    "str1 = \"karolin\"\n",
    "str2 = \"kathrin\"\n",
    "print(hamming_distance(str1, str2))  # Output: 3"
   ]
  },
  {
   "cell_type": "markdown",
   "metadata": {
    "id": "KGrSgbT0koVg"
   },
   "source": [
    "#Functions with different numbers of parameters and return types.\n"
   ]
  },
  {
   "cell_type": "code",
   "execution_count": null,
   "metadata": {
    "colab": {
     "base_uri": "https://localhost:8080/"
    },
    "id": "AQhTtVG2hZtH",
    "outputId": "518dcea3-02ef-47b2-a1f8-88c422566064"
   },
   "outputs": [
    {
     "name": "stdout",
     "output_type": "stream",
     "text": [
      "18\n",
      "25\n",
      "36\n"
     ]
    }
   ],
   "source": [
    "def multiply(x,y):\n",
    "  return x * y\n",
    "\n",
    "print(multiply(3,6))\n",
    "print(multiply(5,5))\n",
    "print(multiply(9,4))"
   ]
  },
  {
   "cell_type": "code",
   "execution_count": null,
   "metadata": {
    "colab": {
     "base_uri": "https://localhost:8080/"
    },
    "id": "yekE8PjntnE0",
    "outputId": "d74102c1-c95b-48ac-afbf-62e8d219aa6a"
   },
   "outputs": [
    {
     "name": "stdout",
     "output_type": "stream",
     "text": [
      "enter your name:deepa\n",
      "Have a great day,Deepa!\n"
     ]
    }
   ],
   "source": [
    "def greet(name):\n",
    "    print(f\"Have a great day,{name.title()}!\")\n",
    "name=input(\"enter your name:\") #taking input from user\n",
    "greet(name)"
   ]
  },
  {
   "cell_type": "code",
   "execution_count": null,
   "metadata": {
    "colab": {
     "base_uri": "https://localhost:8080/"
    },
    "id": "g5_LlAAlKVS0",
    "outputId": "582af8f2-e5c9-43a4-917a-a4f8d2f5b1c4"
   },
   "outputs": [
    {
     "name": "stdout",
     "output_type": "stream",
     "text": [
      "function\n"
     ]
    }
   ],
   "source": [
    "def find_longest_word(sentence):\n",
    "\n",
    "    words = sentence.split()\n",
    "    longest_word = max(words, key=len)\n",
    "    return longest_word\n",
    "\n",
    "# Example\n",
    "sentence = \"This function is to find the longest word\"\n",
    "print(find_longest_word(sentence))\n"
   ]
  },
  {
   "cell_type": "code",
   "execution_count": null,
   "metadata": {
    "colab": {
     "base_uri": "https://localhost:8080/"
    },
    "id": "HLiQoZ1iXtD9",
    "outputId": "200fe0f8-f350-4f9e-c4de-e557b87462dd"
   },
   "outputs": [
    {
     "name": "stdout",
     "output_type": "stream",
     "text": [
      "0b101010\n"
     ]
    }
   ],
   "source": [
    "# Using built-in function\n",
    "decimal_number = 42\n",
    "binary_number = bin(decimal_number)\n",
    "print(binary_number)\n"
   ]
  },
  {
   "cell_type": "markdown",
   "metadata": {
    "id": "_72D3WUimQ0M"
   },
   "source": [
    "Explore function scope and variable accessibility.\n",
    "A variable is only available from inside the region it is created. This is called scope.\n",
    "\n",
    "Local Scope:\n",
    "A variable created inside a function belongs to the local scope of that function, and can only be used inside that function.\n",
    "\n",
    "Global Scope:\n",
    "A variable created in the main body of the Python code is a global variable and belongs to the global scope.\n",
    "Global variables are available from within any scope, global and local.\n",
    "\n",
    "Global Keyword:\n",
    "If you need to create a global variable, but are stuck in the local scope, you can use the global keyword.\n",
    "The global keyword makes the variable global.\n",
    "\n",
    "Nonlocal Keyword:\n",
    "The nonlocal keyword is used to work with variables inside nested functions.\n",
    "The nonlocal keyword makes the variable belong to the outer function."
   ]
  },
  {
   "cell_type": "code",
   "execution_count": null,
   "metadata": {
    "colab": {
     "base_uri": "https://localhost:8080/"
    },
    "id": "Hl8YPo9-n6gR",
    "outputId": "225f853f-4af5-4ac1-bb1c-83c1d546bc51"
   },
   "outputs": [
    {
     "name": "stdout",
     "output_type": "stream",
     "text": [
      "deepa\n"
     ]
    }
   ],
   "source": [
    "#Local Scope\n",
    "\n",
    "def myfunc():\n",
    "  name = 'deepa'\n",
    "  print(name)\n",
    "\n",
    "myfunc()"
   ]
  },
  {
   "cell_type": "code",
   "execution_count": null,
   "metadata": {
    "colab": {
     "base_uri": "https://localhost:8080/"
    },
    "id": "ki7aF4AsoqEf",
    "outputId": "0dd61939-f6e1-4f7f-8bc3-e9ab45c9b7b9"
   },
   "outputs": [
    {
     "name": "stdout",
     "output_type": "stream",
     "text": [
      "7\n",
      "5\n",
      "2\n"
     ]
    }
   ],
   "source": [
    "#Global Scope\n",
    "\n",
    "x = 5\n",
    "y = 2\n",
    "\n",
    "def myfunc():\n",
    "  print(x+y)\n",
    "\n",
    "myfunc()\n",
    "\n",
    "print(x)\n",
    "print(y)"
   ]
  },
  {
   "cell_type": "code",
   "execution_count": null,
   "metadata": {
    "colab": {
     "base_uri": "https://localhost:8080/"
    },
    "id": "pj4H_5l3pTC6",
    "outputId": "b6ead6ec-beaf-43b4-ad41-dc3c8b777561"
   },
   "outputs": [
    {
     "name": "stdout",
     "output_type": "stream",
     "text": [
      "alex\n"
     ]
    }
   ],
   "source": [
    "#Global Keyword\n",
    "\n",
    "def myfunc():\n",
    " global name\n",
    " name=\"alex\"\n",
    "\n",
    "myfunc()\n",
    "print(name)"
   ]
  },
  {
   "cell_type": "code",
   "execution_count": null,
   "metadata": {
    "colab": {
     "base_uri": "https://localhost:8080/"
    },
    "id": "Z_hm6VUoqQYl",
    "outputId": "e490bba9-b56a-452a-a745-521eb9116891"
   },
   "outputs": [
    {
     "name": "stdout",
     "output_type": "stream",
     "text": [
      "adusumilli\n"
     ]
    }
   ],
   "source": [
    "#Nonlocal Keyword:\n",
    "\n",
    "def myfunc1():\n",
    "  x = \"deepa\"\n",
    "  def myfunc2():\n",
    "    nonlocal x\n",
    "    x = \"adusumilli\"\n",
    "  myfunc2()\n",
    "  return x\n",
    "\n",
    "print(myfunc1())\n",
    "#print(x)"
   ]
  },
  {
   "cell_type": "markdown",
   "metadata": {
    "id": "9p8W1bSyt5tO"
   },
   "source": [
    "#Functions with default argument values."
   ]
  },
  {
   "cell_type": "code",
   "execution_count": null,
   "metadata": {
    "colab": {
     "base_uri": "https://localhost:8080/"
    },
    "id": "-HZCzh1ctz1a",
    "outputId": "c42aa4f8-b5cb-4184-c45b-34054659d7c9"
   },
   "outputs": [
    {
     "name": "stdout",
     "output_type": "stream",
     "text": [
      "Have a great day,Deepa!\n"
     ]
    }
   ],
   "source": [
    "#greet function default value for NAME\n",
    "def greet(name='deepa'):\n",
    "    print(f\"Have a great day,{name.title()}!\")\n",
    "greet()"
   ]
  },
  {
   "cell_type": "code",
   "execution_count": null,
   "metadata": {
    "colab": {
     "base_uri": "https://localhost:8080/"
    },
    "id": "lRI2waSAerua",
    "outputId": "7e25ca40-9d2a-4449-86cf-46b2aeabd524"
   },
   "outputs": [
    {
     "name": "stdout",
     "output_type": "stream",
     "text": [
      "area of rectangle is: 50\n"
     ]
    }
   ],
   "source": [
    "#AREA CALCULATOR WITH default value\n",
    "def calculate_area(length=10,width=5):\n",
    "    return length*width\n",
    "\n",
    "area=calculate_area()\n",
    "print(f\"area of rectangle is: {area}\")"
   ]
  },
  {
   "cell_type": "markdown",
   "metadata": {
    "id": "Tmmw1hl1fd-P"
   },
   "source": [
    "#RECURSIVE FUNCTIONS\n",
    "\n",
    "Recursive functions in Python are functions that call themselves in order to solve a problem. They are particularly useful for tasks that can be broken down into smaller, similar tasks"
   ]
  },
  {
   "cell_type": "code",
   "execution_count": null,
   "metadata": {
    "colab": {
     "base_uri": "https://localhost:8080/"
    },
    "id": "aIv_rSEyflNE",
    "outputId": "72f6ea71-e59b-4120-e53f-4c7623f37ce7"
   },
   "outputs": [
    {
     "name": "stdout",
     "output_type": "stream",
     "text": [
      "Enter a number: 6\n",
      "The factorial of 6 is: 720\n"
     ]
    }
   ],
   "source": [
    "#FACTORIAL\n",
    "\n",
    "def factorial(i):\n",
    "    if i < 0:  #base case\n",
    "        return \"please enter a positive number\"\n",
    "    elif (i == 0 or i == 1):\n",
    "        return 1\n",
    "    else:      #recursive call\n",
    "        return i * factorial(i-1)\n",
    "\n",
    "num = int(input(\"Enter a number: \"))\n",
    "print(f\"The factorial of {num} is: {factorial(num)}\")\n"
   ]
  },
  {
   "cell_type": "code",
   "execution_count": null,
   "metadata": {
    "colab": {
     "base_uri": "https://localhost:8080/"
    },
    "id": "WC7JgbMUYTNH",
    "outputId": "acf504de-0a8a-4c5a-d75e-7dcf5dbc65fa"
   },
   "outputs": [
    {
     "name": "stdout",
     "output_type": "stream",
     "text": [
      "0\n",
      "1\n",
      "1\n",
      "2\n",
      "3\n",
      "5\n",
      "8\n",
      "13\n",
      "21\n",
      "34\n"
     ]
    }
   ],
   "source": [
    "#Fibonacci Sequence\n",
    "def fibonacci(n):\n",
    "    # Base cases\n",
    "    if n == 0:\n",
    "        return 0\n",
    "    elif n == 1:\n",
    "        return 1\n",
    "    else:\n",
    "        # Recursive case\n",
    "        return fibonacci(n-1) + fibonacci(n-2)\n",
    "\n",
    "# Example\n",
    "for i in range(10):\n",
    "    print(fibonacci(i))"
   ]
  },
  {
   "cell_type": "code",
   "execution_count": null,
   "metadata": {
    "colab": {
     "base_uri": "https://localhost:8080/"
    },
    "id": "W7QUcXQLMjeV",
    "outputId": "d76b89de-fbd7-4e21-e5ac-ad0b979c00a2"
   },
   "outputs": [
    {
     "name": "stdout",
     "output_type": "stream",
     "text": [
      "enter a string::monday\n",
      "yadnom\n"
     ]
    }
   ],
   "source": [
    "#reverse a string using recursion\n",
    "def reverse_string(s):\n",
    "    # Base case: if the string is empty\n",
    "    if len(s) == 0:\n",
    "        return s\n",
    "    else:\n",
    "        # Recursive case: the last character + reverse of the substring excluding the last character\n",
    "        return s[-1] + reverse_string(s[:-1])\n",
    "\n",
    "s=input(\"enter a string::\")\n",
    "print(reverse_string(s))"
   ]
  },
  {
   "cell_type": "markdown",
   "metadata": {
    "id": "Obdejfy4dc1S"
   },
   "source": [
    "#Docstrings\n",
    "Docstrings in Python are a way to document your code. They are string literals that appear right after the definition of a function, method, class, or module and are used to describe what the function or method does, its parameters, and its return value. Docstrings help improve code readability and provide an easy way to generate documentation."
   ]
  },
  {
   "cell_type": "code",
   "execution_count": null,
   "metadata": {
    "colab": {
     "base_uri": "https://localhost:8080/"
    },
    "id": "u7Zqqr_8cCeb",
    "outputId": "28b82208-b1ed-4580-eb5d-5445100bc409"
   },
   "outputs": [
    {
     "name": "stdout",
     "output_type": "stream",
     "text": [
      "0\n",
      "1\n",
      "1\n",
      "2\n",
      "3\n",
      "5\n",
      "8\n"
     ]
    }
   ],
   "source": [
    "#how to add docstrings to the Fibonacci function we used earlier\n",
    "def fibonacci(n):\n",
    "    \"\"\"\n",
    "    Calculate the nth Fibonacci number using recursion.\n",
    "\n",
    "    This function computes the nth Fibonacci number using a simple\n",
    "    recursive approach. The Fibonacci sequence is a series of numbers\n",
    "    where each number is the sum of the two preceding ones, starting from\n",
    "    0 and 1. For example, the sequence starts as 0, 1, 1, 2, 3, 5, 8, ...\n",
    "\n",
    "    Parameters:\n",
    "    n (int): The position in the Fibonacci sequence to calculate. Must be a non-negative integer.\n",
    "\n",
    "    Returns:\n",
    "    int: The nth Fibonacci number.\n",
    "\n",
    "    Example:\n",
    "    >>> fibonacci(5)\n",
    "    5\n",
    "    >>> fibonacci(10)\n",
    "    55\n",
    "    \"\"\"\n",
    "    # Base cases\n",
    "    if n == 0:\n",
    "        return 0\n",
    "    elif n == 1:\n",
    "        return 1\n",
    "    else:\n",
    "        # Recursive case\n",
    "        return fibonacci(n-1) + fibonacci(n-2)\n",
    "\n",
    "def fibonacci_range(n):\n",
    "    \"\"\"\n",
    "    Print Fibonacci numbers up to the nth position using a range.\n",
    "\n",
    "    This function generates and prints the Fibonacci numbers from 0 to n-1\n",
    "    by calling the `fibonacci` function for each value in the range.\n",
    "\n",
    "    Parameters:\n",
    "    n (int): The upper limit (exclusive) for generating Fibonacci numbers. Must be a non-negative integer.\n",
    "\n",
    "    Example:\n",
    "    >>> fibonacci_range(7)\n",
    "    0\n",
    "    1\n",
    "    1\n",
    "    2\n",
    "    3\n",
    "    5\n",
    "    8\n",
    "    \"\"\"\n",
    "    for i in range(n):\n",
    "        print(fibonacci(i))\n",
    "\n",
    "# Example usage\n",
    "fibonacci_range(7)\n"
   ]
  },
  {
   "cell_type": "markdown",
   "metadata": {
    "id": "6apN4LAt5VD6"
   },
   "source": [
    "#lambda function:\n",
    "A lambda function is a small anonymous function defined by lamda keyword.\n",
    "A lambda function can take any number of arguments, but can only have one expression.They're useful for simple operations or when you need a quick function definition without using the formal def keyword.\n",
    "\n",
    "Basic syntax:\n",
    "lambda arguments: expression\n"
   ]
  },
  {
   "cell_type": "code",
   "execution_count": null,
   "metadata": {
    "colab": {
     "base_uri": "https://localhost:8080/"
    },
    "id": "CHnixyPu5Y65",
    "outputId": "849ed290-8247-4000-eaf5-e48af187c337"
   },
   "outputs": [
    {
     "name": "stdout",
     "output_type": "stream",
     "text": [
      "49\n"
     ]
    }
   ],
   "source": [
    "#Square a number\n",
    "square = lambda x: x ** 2\n",
    "print(square(7))"
   ]
  },
  {
   "cell_type": "code",
   "execution_count": null,
   "metadata": {
    "colab": {
     "base_uri": "https://localhost:8080/"
    },
    "id": "opOV9vSP7i3_",
    "outputId": "3c5893e9-2d31-4524-de57-5012a7113f27"
   },
   "outputs": [
    {
     "name": "stdout",
     "output_type": "stream",
     "text": [
      "True\n",
      "False\n"
     ]
    }
   ],
   "source": [
    "#Check if a number is even\n",
    "is_even = lambda x: x % 2 == 0\n",
    "print(is_even(24))\n",
    "print(is_even(9))\n"
   ]
  },
  {
   "cell_type": "code",
   "execution_count": null,
   "metadata": {
    "colab": {
     "base_uri": "https://localhost:8080/"
    },
    "id": "J00UHlQJ7umy",
    "outputId": "5d995e79-d6da-4f39-a96c-848fbf5cad77"
   },
   "outputs": [
    {
     "name": "stdout",
     "output_type": "stream",
     "text": [
      "Hello, This is a lambda function\n"
     ]
    }
   ],
   "source": [
    "#Concatenate two strings\n",
    "concatenate = lambda s1, s2: s1 + s2\n",
    "print(concatenate(\"Hello, \", \"This is a lambda function\"))\n"
   ]
  },
  {
   "cell_type": "code",
   "execution_count": null,
   "metadata": {
    "colab": {
     "base_uri": "https://localhost:8080/"
    },
    "id": "xcy1RxxX8LEr",
    "outputId": "9914b239-61f5-42b3-adc0-ee8a142925ac"
   },
   "outputs": [
    {
     "name": "stdout",
     "output_type": "stream",
     "text": [
      "102.56\n"
     ]
    }
   ],
   "source": [
    "#Convert Celsius to Fahrenheit\n",
    "celsius_to_fahrenheit = lambda c: (c * 9/5) + 32\n",
    "print(celsius_to_fahrenheit(39.2))"
   ]
  },
  {
   "cell_type": "markdown",
   "metadata": {
    "id": "SKxrX541-tu6"
   },
   "source": [
    "#lambda functions with built-in functions like map, filter, and reduce.\n",
    "Lambda functions are powerful tools in Python that can be used effectively with built-in functions like map, filter, and reduce. These combinations allow for concise and efficient data manipulation."
   ]
  },
  {
   "cell_type": "code",
   "execution_count": null,
   "metadata": {
    "colab": {
     "base_uri": "https://localhost:8080/"
    },
    "id": "qRf5LyOe8A4t",
    "outputId": "0f3c5952-147c-43d3-fe92-29548bfe0afa"
   },
   "outputs": [
    {
     "name": "stdout",
     "output_type": "stream",
     "text": [
      "[102.56, 97.7, 99.14, 100.03999999999999]\n"
     ]
    }
   ],
   "source": [
    "#map\n",
    "celsius = [39.2, 36.5, 37.3, 37.8]\n",
    "fahrenheit = list(map(lambda x: (x * 9/5) + 32, celsius))\n",
    "print(fahrenheit)"
   ]
  },
  {
   "cell_type": "code",
   "execution_count": 61,
   "metadata": {
    "colab": {
     "base_uri": "https://localhost:8080/"
    },
    "id": "SQjfTkoM_Uu2",
    "outputId": "20d98dae-37cd-4d6f-c1ac-9300acbed292"
   },
   "outputs": [
    {
     "name": "stdout",
     "output_type": "stream",
     "text": [
      "{'Jane': 30, 'Alice': 35}\n"
     ]
    }
   ],
   "source": [
    "#filter\n",
    "data = [(\"John\", 25), (\"Jane\", 30), (\"Bob\", 22), (\"Alice\", 35)]\n",
    "adults = dict(filter(lambda x: x[1] >= 30, data))\n",
    "print(adults)"
   ]
  },
  {
   "cell_type": "code",
   "execution_count": null,
   "metadata": {
    "colab": {
     "base_uri": "https://localhost:8080/"
    },
    "id": "FEulH1gR_zb7",
    "outputId": "6a91f66b-db7e-4cc1-f598-a95968d41f62"
   },
   "outputs": [
    {
     "name": "stdout",
     "output_type": "stream",
     "text": [
      "The total price of items in the shopping cart is: $1339.96\n"
     ]
    }
   ],
   "source": [
    "#reduce\n",
    "from functools import reduce\n",
    "\n",
    "# Shopping cart with items and their prices\n",
    "shopping_cart = [\n",
    "    {\"item\": \"Laptop\", \"price\": 999.99},\n",
    "    {\"item\": \"Mouse\", \"price\": 29.99},\n",
    "    {\"item\": \"Keyboard\", \"price\": 59.99},\n",
    "    {\"item\": \"Monitor\", \"price\": 249.99}\n",
    "]\n",
    "\n",
    "# Calculate the total price using reduce and lambda\n",
    "total_price = reduce(lambda acc, item: acc + item[\"price\"], shopping_cart, 0)\n",
    "\n",
    "print(f\"The total price of items in the shopping cart is: ${total_price:.2f}\")"
   ]
  },
  {
   "cell_type": "markdown",
   "metadata": {
    "id": "i5OJKbSLCzIy"
   },
   "source": [
    "#Comparing lambda functions with regular functions in terms of syntax and use cases.\n",
    "Regular functions are defined using the def keyword, followed by a function name, parameters in parentheses, and a colon. The function body is indented and can contain multiple statements. For example:\n",
    "\n",
    "def multiply(x, y):\n",
    "    return x * y\n",
    "Lambda functions, on the other hand, are anonymous functions defined using the lambda keyword. They are more concise and are limited to a single expression.\n",
    "\n",
    "For example:\n",
    "multiply = lambda x, y: x * y  \n",
    "\n",
    "\n",
    "#When to Use Lambda Functions:\n",
    "\n",
    "Use Lambda Functions:\n",
    "\n",
    "When you need a short, throwaway function.\n",
    "\n",
    "For simple operations where defining a full function is overkill.\n",
    "\n",
    "With built-in functions like map, filter, and reduce for concise code.\n",
    "\n",
    "Use Regular Functions:\n",
    "\n",
    "For complex operations that require multiple lines of code.\n",
    "\n",
    "When readability and debugging are important.\n",
    "\n",
    "When the function will be reused multiple times.\n"
   ]
  },
  {
   "cell_type": "code",
   "execution_count": null,
   "metadata": {
    "colab": {
     "base_uri": "https://localhost:8080/"
    },
    "id": "39CHu7ebC3uk",
    "outputId": "19b02eb5-1f7a-4ab0-f133-d027fe72e91c"
   },
   "outputs": [
    {
     "name": "stdout",
     "output_type": "stream",
     "text": [
      "\n",
      "Using regular function:\n",
      "Even numbers: [2, 4, 6, 8, 10]\n",
      "\n",
      "Using lambda function:\n",
      "Even numbers: [2, 4, 6, 8, 10]\n"
     ]
    }
   ],
   "source": [
    "numbers = [1, 2, 3, 4, 5, 6, 7, 8, 9, 10]\n",
    "\n",
    "# Using a regular function\n",
    "def is_even(num):\n",
    "    return num % 2 == 0\n",
    "\n",
    "even_numbers_regular = list(filter(is_even, numbers))\n",
    "print(\"\\nUsing regular function:\")\n",
    "print(\"Even numbers:\", even_numbers_regular)\n",
    "\n",
    "# Using a lambda function\n",
    "even_numbers_lambda = list(filter(lambda x: x % 2 == 0, numbers))\n",
    "print(\"\\nUsing lambda function:\")\n",
    "print(\"Even numbers:\", even_numbers_lambda)"
   ]
  },
  {
   "cell_type": "markdown",
   "metadata": {
    "id": "dmW7mY41IBc9"
   },
   "source": [
    "#NumPy\n",
    "NumPy is a powerful library for numerical computations in Python. It provides support for arrays, mathematical operations, and efficient data manipulation."
   ]
  },
  {
   "cell_type": "code",
   "execution_count": null,
   "metadata": {
    "colab": {
     "base_uri": "https://localhost:8080/"
    },
    "id": "JQ55SvZMIPu-",
    "outputId": "aee898a0-f597-4afe-d60e-e8e9231ef0cf"
   },
   "outputs": [
    {
     "name": "stdout",
     "output_type": "stream",
     "text": [
      "1D Array: [1 2 3 4 5]\n",
      "2D Array:\n",
      " [[1 2 3]\n",
      " [4 5 6]]\n",
      "3D Array:\n",
      " [[[1 2]\n",
      "  [3 4]]\n",
      "\n",
      " [[5 6]\n",
      "  [7 8]]]\n",
      "Zeros:\n",
      " [[0. 0. 0.]\n",
      " [0. 0. 0.]]\n",
      "Ones:\n",
      " [[1. 1.]\n",
      " [1. 1.]\n",
      " [1. 1.]]\n",
      "Random Numbers:\n",
      " [[0.33164047 0.92868052 0.46657276]\n",
      " [0.23005015 0.72230105 0.73322245]\n",
      " [0.32331931 0.09695626 0.96006617]]\n"
     ]
    }
   ],
   "source": [
    "#Create Different Types of NumPy Arrays\n",
    "#NumPy allows the creation of arrays of various dimensions and types.\n",
    "\n",
    "#1D array\n",
    "\n",
    "import numpy as np\n",
    "\n",
    "array_1d = np.array([1, 2, 3, 4, 5])\n",
    "print(\"1D Array:\", array_1d)\n",
    "\n",
    "#2D array\n",
    "\n",
    "array_2d = np.array([[1, 2, 3], [4, 5, 6]])\n",
    "print(\"2D Array:\\n\", array_2d)\n",
    "\n",
    "#3D array\n",
    "\n",
    "array_3d = np.array([[[1, 2], [3, 4]], [[5, 6], [7, 8]]])\n",
    "print(\"3D Array:\\n\", array_3d)\n",
    "\n",
    "#Arrays of Zeros, Ones, and Random Numbers:\n",
    "\n",
    "zeros = np.zeros((2, 3))  # 2x3 array of zeros\n",
    "ones = np.ones((3, 2))    # 3x2 array of ones\n",
    "random = np.random.rand(3, 3)  # 3x3 array of random values\n",
    "print(\"Zeros:\\n\", zeros)\n",
    "print(\"Ones:\\n\", ones)\n",
    "print(\"Random Numbers:\\n\", random)\n",
    "\n",
    "\n"
   ]
  },
  {
   "cell_type": "code",
   "execution_count": null,
   "metadata": {
    "colab": {
     "base_uri": "https://localhost:8080/"
    },
    "id": "4DMuvsUtORxu",
    "outputId": "bb355aa4-988f-436f-9c58-7b740f027444"
   },
   "outputs": [
    {
     "name": "stdout",
     "output_type": "stream",
     "text": [
      "Addition: [5 7 9]\n",
      "Subtraction: [-3 -3 -3]\n",
      "Multiplication: [ 4 10 18]\n",
      "Division: [0.25 0.4  0.5 ]\n"
     ]
    }
   ],
   "source": [
    "#Basic Arithmetic Operations on Arrays\n",
    "\n",
    "import numpy as np\n",
    "a = np.array([1, 2, 3])\n",
    "b = np.array([4, 5, 6])\n",
    "\n",
    "# Addition\n",
    "print(\"Addition:\", a + b)\n",
    "\n",
    "# Subtraction\n",
    "print(\"Subtraction:\", a - b)\n",
    "\n",
    "# Multiplication\n",
    "print(\"Multiplication:\", a * b)\n",
    "\n",
    "# Division\n",
    "print(\"Division:\", a / b)\n"
   ]
  },
  {
   "cell_type": "code",
   "execution_count": null,
   "metadata": {
    "colab": {
     "base_uri": "https://localhost:8080/"
    },
    "id": "y6lF4Z9ROW1i",
    "outputId": "e86f0493-843f-4315-a851-89d763ac3ff5"
   },
   "outputs": [
    {
     "name": "stdout",
     "output_type": "stream",
     "text": [
      "1D ARRAY\n",
      "Element at index 2: 30\n",
      "Slice from index 1 to 3: [20 30 40]\n",
      "2D ARRAY\n",
      "Element at [1, 2]: 60\n",
      "Entire Row 0: [10 20 30]\n",
      "Entire Column 1: [20 50 80]\n"
     ]
    }
   ],
   "source": [
    "#Use Indexing and Slicing to Access Elements\n",
    "#Indexing and slicing in NumPy arrays are similar to Python lists but can extend to multiple dimensions.\n",
    "\n",
    "\n",
    "import numpy as np\n",
    "#1D ARRAY\n",
    "print(\"1D ARRAY\")\n",
    "array = np.array([10, 20, 30, 40, 50])\n",
    "print(\"Element at index 2:\", array[2])\n",
    "print(\"Slice from index 1 to 3:\", array[1:4])\n",
    "\n",
    "\n",
    "#2D ARRAY\n",
    "print(\"2D ARRAY\")\n",
    "array_2d = np.array([[10, 20, 30], [40, 50, 60], [70, 80, 90]])\n",
    "print(\"Element at [1, 2]:\", array_2d[1, 2])  # Row 1, Column 2\n",
    "print(\"Entire Row 0:\", array_2d[0, :])       # First row\n",
    "print(\"Entire Column 1:\", array_2d[:, 1])    # Second column\n"
   ]
  },
  {
   "cell_type": "code",
   "execution_count": null,
   "metadata": {
    "colab": {
     "base_uri": "https://localhost:8080/"
    },
    "id": "E7xlviA4PDmG",
    "outputId": "d6c16168-c839-45b9-885a-a8ea51d33c75"
   },
   "outputs": [
    {
     "name": "stdout",
     "output_type": "stream",
     "text": [
      "Reshaped Array:\n",
      " [[ 1  2  3  4]\n",
      " [ 5  6  7  8]\n",
      " [ 9 10 11 12]]\n",
      "Transposed Array:\n",
      " [[ 1  5  9]\n",
      " [ 2  6 10]\n",
      " [ 3  7 11]\n",
      " [ 4  8 12]]\n",
      "Concatenated Array (axis=0):\n",
      " [[1 2]\n",
      " [3 4]\n",
      " [5 6]\n",
      " [7 8]]\n"
     ]
    }
   ],
   "source": [
    "#Array Manipulation Functions\n",
    "#NumPy provides several functions for reshaping and combining arrays.\n",
    "\n",
    "#Reshape:\n",
    "#Changes the shape of an array without altering its data.\n",
    "\n",
    "\n",
    "import numpy as np\n",
    "array = np.arange(1, 13)  # Array from 1 to 12\n",
    "reshaped = array.reshape(3, 4)  # Reshape to 3x4\n",
    "print(\"Reshaped Array:\\n\", reshaped)\n",
    "\n",
    "#Transpose:\n",
    "#Switches the rows and columns.\n",
    "\n",
    "transposed = reshaped.T\n",
    "print(\"Transposed Array:\\n\", transposed)\n",
    "\n",
    "#Concatenate:\n",
    "#Joins arrays along an axis.\n",
    "\n",
    "array1 = np.array([[1, 2], [3, 4]])\n",
    "array2 = np.array([[5, 6], [7, 8]])\n",
    "\n",
    "concatenated = np.concatenate((array1, array2), axis=0)  # Along rows\n",
    "print(\"Concatenated Array (axis=0):\\n\", concatenated)\n",
    "\n"
   ]
  },
  {
   "cell_type": "markdown",
   "metadata": {
    "id": "5tOyIQGYYMsw"
   },
   "source": [
    "#Create and Use NumPy Random Number Generators\n",
    "Random numbers are useful for simulations, sampling, and testing."
   ]
  },
  {
   "cell_type": "code",
   "execution_count": null,
   "metadata": {
    "colab": {
     "base_uri": "https://localhost:8080/"
    },
    "id": "9e827UeBYQsd",
    "outputId": "66ac22db-b732-46d7-af70-fd4f3bfdb366"
   },
   "outputs": [
    {
     "name": "stdout",
     "output_type": "stream",
     "text": [
      "Random Integers:\n",
      " [[9 6 8]\n",
      " [8 8 6]\n",
      " [1 3 3]]\n",
      "Random Uniform:\n",
      " [0.98056483 0.41583891 0.32733868 0.69494562]\n",
      "Random Normal:\n",
      " [-0.42731232 -1.62170953  0.00575177  0.77398433]\n",
      "Reproducible Random Numbers: [0.37454012 0.95071431 0.73199394]\n"
     ]
    }
   ],
   "source": [
    "\n",
    "import numpy as np\n",
    "\n",
    "#Random Integers:\n",
    "random_integers = np.random.randint(1, 10, size=(3, 3))  # 3x3 array of random integers between 1 and 9\n",
    "print(\"Random Integers:\\n\", random_integers)\n",
    "\n",
    "#Random Numbers from a Uniform Distribution:\n",
    "random_uniform = np.random.rand(4)  # 1D array of random numbers (0 to 1)\n",
    "print(\"Random Uniform:\\n\", random_uniform)\n",
    "\n",
    "#Random Numbers from a Normal Distribution:\n",
    "random_normal = np.random.randn(4)  # 1D array from a normal distribution\n",
    "print(\"Random Normal:\\n\", random_normal)\n",
    "\n",
    "#Set Random Seed for Reproducibility:\n",
    "np.random.seed(42)\n",
    "random_numbers = np.random.rand(3)\n",
    "print(\"Reproducible Random Numbers:\", random_numbers)\n",
    "\n"
   ]
  },
  {
   "cell_type": "code",
   "execution_count": null,
   "metadata": {
    "colab": {
     "base_uri": "https://localhost:8080/"
    },
    "id": "9_9Vv3h9a71D",
    "outputId": "c93a24f3-18b6-43fc-e461-75e76797e402"
   },
   "outputs": [
    {
     "name": "stdout",
     "output_type": "stream",
     "text": [
      "[0.59865848 0.15601864 0.15599452 0.05808361 0.86617615 0.60111501\n",
      " 0.70807258 0.02058449 0.96990985 0.83244264]\n"
     ]
    }
   ],
   "source": [
    "#to generate an array of 10 random numbers between 0 and 1\n",
    "\n",
    "import numpy as np\n",
    "\n",
    "random_array = np.random.rand(10)\n",
    "print(random_array)\n"
   ]
  },
  {
   "cell_type": "code",
   "execution_count": null,
   "metadata": {
    "colab": {
     "base_uri": "https://localhost:8080/"
    },
    "id": "xIXq5YFKbPzu",
    "outputId": "4be715f7-206b-4a3e-d079-0909e41e046b"
   },
   "outputs": [
    {
     "name": "stdout",
     "output_type": "stream",
     "text": [
      "Shuffled Array (First 5 Rows):\n",
      " [[10420 10421 10422 10423 10424 10425 10426 10427 10428 10429 10430 10431\n",
      "  10432 10433 10434 10435 10436 10437 10438 10439]\n",
      " [14740 14741 14742 14743 14744 14745 14746 14747 14748 14749 14750 14751\n",
      "  14752 14753 14754 14755 14756 14757 14758 14759]\n",
      " [14800 14801 14802 14803 14804 14805 14806 14807 14808 14809 14810 14811\n",
      "  14812 14813 14814 14815 14816 14817 14818 14819]\n",
      " [13200 13201 13202 13203 13204 13205 13206 13207 13208 13209 13210 13211\n",
      "  13212 13213 13214 13215 13216 13217 13218 13219]\n",
      " [ 8220  8221  8222  8223  8224  8225  8226  8227  8228  8229  8230  8231\n",
      "   8232  8233  8234  8235  8236  8237  8238  8239]]\n"
     ]
    }
   ],
   "source": [
    "#You have a NumPy array of shape (1000, 20). Write code to randomly shuffle the rows.\n",
    "\n",
    "#np.random.shuffle():\n",
    "#This function shuffles the array in-place along the first axis (rows).\n",
    "#It does not return a new array; the original array is modified.\n",
    "\n",
    "#Reproducibility:\n",
    "#Setting a random seed (np.random.seed()) ensures that the shuffle operation produces the same result each time the code is run.\n",
    "\n",
    "import numpy as np\n",
    "\n",
    "# Create a NumPy array with shape (1000, 20)\n",
    "array = np.arange(1000 * 20).reshape(1000, 20)\n",
    "\n",
    "# Shuffle the rows randomly\n",
    "np.random.seed(42)  # Optional: Set seed for reproducibility\n",
    "np.random.shuffle(array)\n",
    "\n",
    "# Display the first 5 rows of the shuffled array\n",
    "print(\"Shuffled Array (First 5 Rows):\\n\", array[:5])\n"
   ]
  },
  {
   "cell_type": "code",
   "execution_count": null,
   "metadata": {
    "colab": {
     "base_uri": "https://localhost:8080/"
    },
    "id": "eQNwhRGCYrJA",
    "outputId": "01f41455-a17b-4769-e618-e8a923d181fe"
   },
   "outputs": [
    {
     "name": "stdout",
     "output_type": "stream",
     "text": [
      "[1 2 3 4 5]\n"
     ]
    }
   ],
   "source": [
    "#creating a NumPy array from a list\n",
    "\n",
    "import numpy as np\n",
    "my_list = [1, 2, 3, 4, 5]\n",
    "np_array = np.array(my_list)\n",
    "print(np_array)  # Output: [1 2 3 4 5]\n"
   ]
  },
  {
   "cell_type": "code",
   "execution_count": null,
   "metadata": {
    "colab": {
     "base_uri": "https://localhost:8080/"
    },
    "id": "kyBD3n79bESY",
    "outputId": "c33aaef1-9f11-4808-a0ef-8a4a664ebc13"
   },
   "outputs": [
    {
     "name": "stdout",
     "output_type": "stream",
     "text": [
      "Mean: 3.0, Standard Deviation: 1.4142135623730951\n"
     ]
    }
   ],
   "source": [
    "#function to find the mean and standard deviation of a NumPy array.\n",
    "\n",
    "def mean_std(array):\n",
    "    mean = np.mean(array)\n",
    "    std = np.std(array)\n",
    "    return mean, std\n",
    "\n",
    "my_array = np.array([1, 2, 3, 4, 5])\n",
    "mean, std = mean_std(my_array)\n",
    "print(f\"Mean: {mean}, Standard Deviation: {std}\")\n",
    "# Output: Mean: 3.0, Standard Deviation: 1.4142135623730951\n"
   ]
  },
  {
   "cell_type": "code",
   "execution_count": null,
   "metadata": {
    "colab": {
     "base_uri": "https://localhost:8080/"
    },
    "id": "NMRL4_a5bIaQ",
    "outputId": "5b68f72f-0823-490c-ec93-245767efbe5f"
   },
   "outputs": [
    {
     "name": "stdout",
     "output_type": "stream",
     "text": [
      "Original 3D Array:\n",
      "[[[ 1  2  3]\n",
      "  [ 4  5  6]]\n",
      "\n",
      " [[ 7  8  9]\n",
      "  [10 11 12]]]\n",
      "\n",
      "Flattened 1D Array using ravel():\n",
      "[ 1  2  3  4  5  6  7  8  9 10 11 12]\n",
      "\n",
      "Flattened 1D Array using flatten():\n",
      "[ 1  2  3  4  5  6  7  8  9 10 11 12]\n"
     ]
    }
   ],
   "source": [
    "#flatten a 3D array into a 1D array\n",
    "\n",
    "import numpy as np\n",
    "\n",
    "# Create a 3D NumPy array\n",
    "array_3d = np.array([[[1, 2, 3], [4, 5, 6]], [[7, 8, 9], [10, 11, 12]]])\n",
    "\n",
    "print(\"Original 3D Array:\")\n",
    "print(array_3d)\n",
    "\n",
    "# Flatten the 3D array into a 1D array\n",
    "#ravel() \"flattens\" a multi-dimensional array (e.g., 2D, 3D) into a 1D array\n",
    "array_1d = array_3d.ravel()\n",
    "print(\"\\nFlattened 1D Array using ravel():\")\n",
    "print(array_1d)\n",
    "\n",
    "# Alternatively, use the flatten() method\n",
    "array_1d_flatten = array_3d.flatten()\n",
    "print(\"\\nFlattened 1D Array using flatten():\")\n",
    "print(array_1d_flatten)\n"
   ]
  },
  {
   "cell_type": "code",
   "execution_count": 65,
   "metadata": {
    "colab": {
     "base_uri": "https://localhost:8080/"
    },
    "id": "swdGOh2Xj8as",
    "outputId": "d3840ea5-9be2-4c0d-ef65-b4e2a7c32614"
   },
   "outputs": [
    {
     "name": "stdout",
     "output_type": "stream",
     "text": [
      "[[19 22]\n",
      " [43 50]]\n"
     ]
    }
   ],
   "source": [
    "#calculating the dot product of two large matrice efficiently in Python using NumPy\n",
    "#NumPy's 'np.dot' function is optimized for fast matrix operations, making it ideal for large-scale mathematical computations like dot products.\n",
    "\n",
    "import numpy as np\n",
    "\n",
    "def calculate_dot_product(matrix_a, matrix_b):\n",
    "    return np.dot(matrix_a, matrix_b)\n",
    "\n",
    "# Example usage\n",
    "matrix_a = np.array([[1, 2], [3, 4]])\n",
    "matrix_b = np.array([[5, 6], [7, 8]])\n",
    "result = calculate_dot_product(matrix_a, matrix_b)\n",
    "print(result)\n"
   ]
  },
  {
   "cell_type": "code",
   "execution_count": null,
   "metadata": {
    "colab": {
     "base_uri": "https://localhost:8080/"
    },
    "id": "IWCXKaOVkLwV",
    "outputId": "57565baf-fc6b-44a0-c497-9ee465b3c64e"
   },
   "outputs": [
    {
     "name": "stdout",
     "output_type": "stream",
     "text": [
      "[1. 2. 3. 4. 5.]\n"
     ]
    }
   ],
   "source": [
    "#Python function using NumPy to replace a loop based operation with a vectorized operation for performance improvement.\n",
    "#NumPy's vectorized operations (such as np.sqrt()) are much faster than traditional Python loops, making them ideal for performance optimization.\n",
    "\n",
    "import numpy as np\n",
    "\n",
    "def compute_square_roots_vectorized(values):\n",
    "    np_values = np.array(values)\n",
    "\n",
    "    #We first convert the input list values to a NumPy array using np.array(values)\n",
    "    #We then use NumPy's np.sqrt() function to compute the square root of each element in the array.\n",
    "    #This operation is vectorized, meaning it is applied to all elements of the array at once, leading to significant performance improvements.\n",
    "\n",
    "    return np.sqrt(np_values)\n",
    "\n",
    "# Example usage\n",
    "values = [1, 4, 9, 16, 25]\n",
    "result = compute_square_roots_vectorized(values)\n",
    "print(result)\n"
   ]
  },
  {
   "cell_type": "markdown",
   "metadata": {
    "id": "GSaO3_OSfRMN"
   },
   "source": [
    "#handling missing data in a NumPy array\n",
    "Handling missing data in a NumPy array typically involves detecting and dealing with NaN (Not a Number) values."
   ]
  },
  {
   "cell_type": "code",
   "execution_count": null,
   "metadata": {
    "colab": {
     "base_uri": "https://localhost:8080/"
    },
    "id": "IrHEoSlffSyd",
    "outputId": "04d9889c-b91b-4852-95fb-ac35f668a1df"
   },
   "outputs": [
    {
     "name": "stdout",
     "output_type": "stream",
     "text": [
      "NaN Mask: [False False  True False False  True]\n",
      "Cleaned Data: [1. 2. 4. 5.]\n",
      "Data with NaN Replaced by 0: [1. 2. 0. 4. 5. 0.]\n",
      "Data with NaN Replaced by Mean: [1. 2. 3. 4. 5. 3.]\n",
      "Interpolated Data: [1. 2. 3. 4. 5. 5.]\n",
      "Number of NaN values: 2\n"
     ]
    }
   ],
   "source": [
    "#1. Detecting NaN Values\n",
    "#You can detect NaN values using the np.isnan() function.\n",
    "\n",
    "import numpy as np\n",
    "\n",
    "# Example array with NaN values\n",
    "data = np.array([1, 2, np.nan, 4, 5, np.nan])\n",
    "\n",
    "# Detect NaN values\n",
    "nan_mask = np.isnan(data)\n",
    "print(\"NaN Mask:\", nan_mask)\n",
    "\n",
    "\n",
    "#2. Removing NaN Values\n",
    "#You can remove rows or elements containing NaN values using boolean indexing.\n",
    "\n",
    "# Remove NaN values\n",
    "cleaned_data = data[~np.isnan(data)]\n",
    "print(\"Cleaned Data:\", cleaned_data)\n",
    "\n",
    "\n",
    "#3. Replacing NaN Values\n",
    "#You can replace NaN values with a specific value, such as the mean, median, or a default value.\n",
    "\n",
    "\n",
    "# Replace NaN values with 0\n",
    "data_filled = np.nan_to_num(data, nan=0.0)\n",
    "print(\"Data with NaN Replaced by 0:\", data_filled)\n",
    "\n",
    "\n",
    "# Calculate the mean of non-NaN values\n",
    "mean_value = np.nanmean(data)\n",
    "\n",
    "# Replace NaN values with the mean\n",
    "data_filled_mean = np.where(np.isnan(data), mean_value, data)\n",
    "print(\"Data with NaN Replaced by Mean:\", data_filled_mean)\n",
    "\n",
    "\n",
    "#4. Interpolating Missing Values\n",
    "#If the data is sequential,we can interpolate missing values. While NumPy doesn't have built-in interpolation, you can use Pandas for this:\n",
    "\n",
    "import pandas as pd\n",
    "\n",
    "# Interpolate missing values\n",
    "data_interpolated = pd.Series(data).interpolate().to_numpy()\n",
    "print(\"Interpolated Data:\", data_interpolated)\n",
    "\n",
    "\n",
    "#5. Counting NaN Values\n",
    "#You can count the total number of NaN values in the array.\n",
    "\n",
    "nan_count = np.isnan(data).sum()\n",
    "print(\"Number of NaN values:\", nan_count)\n"
   ]
  },
  {
   "cell_type": "markdown",
   "metadata": {
    "id": "I7H8nh5bh3Ix"
   },
   "source": [
    "\n",
    "axis Parameter:\n",
    "\n",
    "axis=0: Operations are performed column-wise (down the rows).\n",
    "\n",
    "axis=1: Operations are performed row-wise (across the columns).\n",
    "\n",
    "Without Axis:\n",
    "\n",
    "If no axis is specified, the operation is performed on the entire array."
   ]
  },
  {
   "cell_type": "code",
   "execution_count": 18,
   "metadata": {
    "colab": {
     "base_uri": "https://localhost:8080/"
    },
    "id": "BZzlhP-Zh_Pp",
    "outputId": "5cdac6ae-0970-49d8-abc3-14dcf4dcde5b"
   },
   "outputs": [
    {
     "name": "stdout",
     "output_type": "stream",
     "text": [
      "Original Array:\n",
      "[[1 2 3]\n",
      " [4 5 6]\n",
      " [7 8 9]]\n",
      "\n",
      "Maximum values along rows: [3 6 9]\n",
      "Minimum values along rows: [1 4 7]\n",
      "\n",
      "Maximum values along columns: [7 8 9]\n",
      "Minimum values along columns: [1 2 3]\n",
      "\n",
      "Overall Maximum Value: 9\n",
      "Overall Minimum Value: 1\n"
     ]
    }
   ],
   "source": [
    "#find the maximum and minimum values in a 2D array along rows or columns\n",
    "\n",
    "import numpy as np\n",
    "\n",
    "# Create a 2D array\n",
    "array = np.array([[1, 2, 3],\n",
    "                  [4, 5, 6],\n",
    "                  [7, 8, 9]])\n",
    "\n",
    "print(\"Original Array:\")\n",
    "print(array)\n",
    "\n",
    "# Find the maximum and minimum values across rows (axis=1)\n",
    "max_along_rows = np.max(array, axis=1)\n",
    "min_along_rows = np.min(array, axis=1)\n",
    "\n",
    "print(\"\\nMaximum values along rows:\", max_along_rows)\n",
    "print(\"Minimum values along rows:\", min_along_rows)\n",
    "\n",
    "# Find the maximum and minimum values across columns (axis=0)\n",
    "max_along_columns = np.max(array, axis=0)\n",
    "min_along_columns = np.min(array, axis=0)\n",
    "\n",
    "print(\"\\nMaximum values along columns:\", max_along_columns)\n",
    "print(\"Minimum values along columns:\", min_along_columns)\n",
    "\n",
    "# Find the overall maximum and minimum values\n",
    "overall_max = np.max(array)\n",
    "overall_min = np.min(array)\n",
    "\n",
    "print(\"\\nOverall Maximum Value:\", overall_max)\n",
    "print(\"Overall Minimum Value:\", overall_min)\n"
   ]
  },
  {
   "cell_type": "markdown",
   "metadata": {
    "id": "TY6vh_D1sb2p"
   },
   "source": [
    "#Pandas\n",
    "Pandas is a powerful and popular library for data manipulation and analysis in Python."
   ]
  },
  {
   "cell_type": "code",
   "execution_count": 20,
   "metadata": {
    "colab": {
     "base_uri": "https://localhost:8080/"
    },
    "id": "TJz3mwQmsfqN",
    "outputId": "04ac8076-d10e-4d1c-855e-3b47b68b2433"
   },
   "outputs": [
    {
     "name": "stdout",
     "output_type": "stream",
     "text": [
      "0    1\n",
      "1    2\n",
      "2    3\n",
      "3    4\n",
      "4    5\n",
      "dtype: int64\n"
     ]
    }
   ],
   "source": [
    "#Pandas Series\n",
    "# A Pandas Series is a one-dimensional array-like object that can hold any data type\n",
    "\n",
    "import pandas as pd\n",
    "\n",
    "# Create a Pandas Series\n",
    "data = [1, 2, 3, 4, 5]\n",
    "series = pd.Series(data)\n",
    "print(series)\n"
   ]
  },
  {
   "cell_type": "code",
   "execution_count": 22,
   "metadata": {
    "colab": {
     "base_uri": "https://localhost:8080/"
    },
    "id": "9cWyQtKEve1c",
    "outputId": "778397b0-7f0c-4671-bf14-815c04ec6f35"
   },
   "outputs": [
    {
     "name": "stdout",
     "output_type": "stream",
     "text": [
      "      Name  Age\n",
      "0    Alice   25\n",
      "1      Bob   30\n",
      "2  Charlie   35\n",
      "3    David   40\n"
     ]
    }
   ],
   "source": [
    "##A DataFrame is a two-dimensional, size-mutable, and heterogeneous tabular data structure with labeled axes.\n",
    "import pandas as pd\n",
    "# Create a Pandas DataFrame\n",
    "data = {\n",
    "    'Name': ['Alice', 'Bob', 'Charlie', 'David'],\n",
    "    'Age': [25, 30, 35, 40]\n",
    "}\n",
    "df = pd.DataFrame(data)\n",
    "print(df)"
   ]
  },
  {
   "cell_type": "markdown",
   "metadata": {
    "id": "4Usi5JPlwaRK"
   },
   "source": [
    "#Load Data from Various File Formats (CSV, Excel, etc.):\n",
    "\n",
    "Loading data from a CSV file:\n",
    "df_csv = pd.read_csv('path/to/your/file.csv')\n",
    "print(df_csv.head())\n",
    "\n",
    "Loading data from an Excel file:\n",
    "df_excel = pd.read_excel('path/to/your/file.xlsx', sheet_name='Sheet1')\n",
    "print(df_excel.head())"
   ]
  },
  {
   "cell_type": "code",
   "execution_count": 34,
   "metadata": {
    "colab": {
     "base_uri": "https://localhost:8080/"
    },
    "id": "FXyxfysFvsKa",
    "outputId": "0f5b3c8b-978c-4944-848f-6f2b725dfbfc"
   },
   "outputs": [
    {
     "name": "stdout",
     "output_type": "stream",
     "text": [
      "   ID     Name   Age    Salary   Department Performance\n",
      "2   3  Charlie  35.0  120000.0    Marketing   Very Good\n",
      "5   6    Frank  40.0  105000.0    Marketing        Good\n",
      "7   8     Hank  45.0   98000.0  Engineering   Very Good\n"
     ]
    }
   ],
   "source": [
    "# function that reads a CSV file and returns the top 5 rows where a particular column's values are greater than a given threshold.\n",
    "\n",
    "\n",
    "import pandas as pd\n",
    "\n",
    "def top_rows_above_threshold(csv_file, column_name, threshold):\n",
    "    # Read the CSV file into a DataFrame\n",
    "    df = pd.read_csv(\"empsample.csv\")\n",
    "\n",
    "    # Filter the DataFrame based on the threshold\n",
    "    filtered_df = df[df[column_name] > threshold]\n",
    "\n",
    "    # Return the top 5 rows of the filtered DataFrame\n",
    "    return filtered_df.head(5)\n",
    "\n",
    "# Example usage\n",
    "csv_file = \"empsample.csv\"\n",
    "column_name = 'Salary'\n",
    "threshold = 90000\n",
    "top_rows = top_rows_above_threshold(csv_file, column_name, threshold)\n",
    "print(top_rows)\n",
    "\n",
    "#This function reads a CSV into a DataFrame, filters rows where a specified column exceeds the threshold, and returns the first 5 rows.\n"
   ]
  },
  {
   "cell_type": "markdown",
   "metadata": {
    "id": "jeOxL8pbyEvX"
   },
   "source": [
    "# data cleaning and manipulation using Pandas\n",
    "\n",
    "# Handle missing values\n",
    "df.dropna()  # Drop rows with missing values\n",
    "\n",
    "df.fillna(0)  # Fill missing values with 0\n",
    "\n",
    "# Remove duplicates\n",
    "df.drop_duplicates()\n",
    "\n",
    "# Rename columns\n",
    "df.rename(columns={'old_name': 'new_name'})\n",
    "\n",
    "# Sort values\n",
    "df.sort_values('column_name')\n",
    "\n",
    "# Filter data\n",
    "df[df['column_name'] > 5]"
   ]
  },
  {
   "cell_type": "code",
   "execution_count": 60,
   "metadata": {
    "colab": {
     "base_uri": "https://localhost:8080/"
    },
    "id": "3uDf7P8JyjUx",
    "outputId": "38f65cd3-1718-4b54-a2fd-1c07933dd28f"
   },
   "outputs": [
    {
     "name": "stdout",
     "output_type": "stream",
     "text": [
      "    ID          Name   Age    Salary   Department Performance\n",
      "0    1         Alice  30.0   70000.0           HR   Excellent\n",
      "1    2           Bob  25.0   85000.0  Engineering        Good\n",
      "2    3       Charlie  35.0  120000.0    Marketing   Very Good\n",
      "3    4         David  31.0   90000.0           HR        Good\n",
      "4    5           Eva  28.0   85000.0  Engineering   Excellent\n",
      "5    6         Frank  40.0  105000.0    Marketing        Good\n",
      "6    7         Grace  38.0   85000.0           HR        Poor\n",
      "7    8          Hank  45.0   98000.0  Engineering   Very Good\n",
      "8    9           Ivy  31.0   74000.0           HR        Good\n",
      "9   10          Jack  29.0   80000.0    Marketing   Excellent\n",
      "10  11      kerry     31.0   80000.0    Marketing   Excellent\n"
     ]
    }
   ],
   "source": [
    "# when working with a large dataset in CSV format that contains millions of rows. The dataset contains missing values, and you need to clean it\n",
    "#by filling the missing values with the median of each column.\n",
    "\n",
    "#solution using pandas\n",
    "# when working with a large dataset in CSV format that contains millions of rows. The dataset contains missing values, and you need to clean it\n",
    "#by filling the missing values with the median of each column.\n",
    "\n",
    "#solution using pandas\n",
    "\n",
    "import pandas as pd\n",
    "def clean_dataset(filename):\n",
    "    df = pd.read_csv(filename)\n",
    "    for Salary in df.columns:\n",
    "         if df[Salary].isnull().sum() > 0:\n",
    "             median_value = df[Salary].median()\n",
    "             df[Salary] = df[Salary].fillna(median_value)\n",
    "    return df\n",
    "\n",
    "cleaned_df = clean_dataset(\"https://raw.githubusercontent.com/DeepaManasa/Projects/refs/heads/PythonProject/empsample.csv\")\n",
    "print(cleaned_df)\n"
   ]
  },
  {
   "cell_type": "code",
   "execution_count": 62,
   "metadata": {
    "colab": {
     "base_uri": "https://localhost:8080/"
    },
    "id": "GZse4kjY2deW",
    "outputId": "91880a79-2312-43c6-f60b-b8dfe68e17b5"
   },
   "outputs": [
    {
     "name": "stdout",
     "output_type": "stream",
     "text": [
      "Cleaned dataset saved to cleaned_dataset.csv\n",
      "    ID     Name   Age    Salary   Department Performance\n",
      "0    1    Alice  30.0   70000.0           HR   Excellent\n",
      "1    2      Bob  25.0       0.0  Engineering        Good\n",
      "2    3  Charlie  35.0  120000.0    Marketing   Very Good\n",
      "3    4    David   0.0   90000.0           HR        Good\n",
      "4    5      Eva  28.0   85000.0  Engineering   Excellent\n",
      "5    6    Frank  40.0  105000.0    Marketing        Good\n",
      "6    7    Grace  38.0       0.0           HR        Poor\n",
      "7    8     Hank  45.0   98000.0  Engineering   Very Good\n",
      "8    9      Ivy  31.0   74000.0           HR        Good\n",
      "9   10     Jack  29.0   80000.0    Marketing   Excellent\n",
      "10  11    kerry   0.0   80000.0    Marketing   Excellent\n"
     ]
    }
   ],
   "source": [
    "#Python function using Pandas to clean a dataset with columns containing strings and NaN values, by removing leading/trailing spaces\n",
    "#and filling NaNs with a default value.\n",
    "\n",
    "import pandas as pd\n",
    "\n",
    "def clean_data(csv_file, output_file, default_value):\n",
    "    # Read the CSV file into a DataFrame\n",
    "    df = pd.read_csv(csv_file)\n",
    "\n",
    "    # Remove leading and trailing spaces from string columns\n",
    "    for col in df.select_dtypes(include=['object']).columns:\n",
    "        df[col] = df[col].str.strip()\n",
    "\n",
    "    # Fill NaN values with the specified default value\n",
    "    df = df.fillna(default_value)\n",
    "\n",
    "    # Save the cleaned DataFrame to a new CSV file\n",
    "    df.to_csv(output_file, index=False)\n",
    "\n",
    "# Example usage\n",
    "csv_file = 'https://raw.githubusercontent.com/DeepaManasa/Projects/refs/heads/PythonProject/empsample.csv'\n",
    "output_file = 'cleaned_dataset.csv'\n",
    "default_value = '0'  # Change this to your desired default value\n",
    "clean_data(csv_file, output_file, default_value)\n",
    "print(f\"Cleaned dataset saved to {output_file}\")\n",
    "cleaned_df = pd.read_csv(output_file)\n",
    "print(cleaned_df)\n"
   ]
  },
  {
   "cell_type": "markdown",
   "metadata": {
    "id": "u2X0PK0H4Tah"
   },
   "source": [
    "#Data Analysis and Visualization Using Pandas:\n",
    "\n",
    "# Basic statistics\n",
    "The describe() function in Pandas is used to generate descriptive statistics for a DataFrame or a Series. It includes measures such as count, mean, standard deviation, min, max, and percentiles.\n",
    "df.describe()\n",
    "\n",
    "# Correlation between columns\n",
    "\n",
    "df.corr()\n",
    "\n",
    "# Plotting\n",
    "\n",
    "import matplotlib.pyplot as plt\n",
    "\n",
    "df.plot(kind='bar')\n",
    "\n",
    "plt.show()\n",
    "\n",
    "df.plot(kind='scatter', x='column1', y='column2')\n",
    "\n",
    "plt.show()"
   ]
  },
  {
   "cell_type": "code",
   "execution_count": null,
   "metadata": {
    "colab": {
     "base_uri": "https://localhost:8080/"
    },
    "id": "JaqgvUCc4iuX",
    "outputId": "a751ea4d-9107-4d18-fc34-e4c3022752c6"
   },
   "outputs": [
    {
     "name": "stdout",
     "output_type": "stream",
     "text": [
      "              A         B         C\n",
      "count  5.000000  5.000000  5.000000\n",
      "mean   3.000000  3.000000  4.000000\n",
      "std    1.581139  1.581139  1.581139\n",
      "min    1.000000  1.000000  2.000000\n",
      "25%    2.000000  2.000000  3.000000\n",
      "50%    3.000000  3.000000  4.000000\n",
      "75%    4.000000  4.000000  5.000000\n",
      "max    5.000000  5.000000  6.000000\n"
     ]
    }
   ],
   "source": [
    "import pandas as pd\n",
    "\n",
    "# Create a sample DataFrame\n",
    "data = {\n",
    "    'A': [1, 2, 3, 4, 5],\n",
    "    'B': [5, 4, 3, 2, 1],\n",
    "    'C': [2, 3, 4, 5, 6]\n",
    "}\n",
    "df = pd.DataFrame(data)\n",
    "\n",
    "# Generate descriptive statistics\n",
    "description = df.describe()\n",
    "print(description)\n"
   ]
  },
  {
   "cell_type": "code",
   "execution_count": 54,
   "metadata": {
    "colab": {
     "base_uri": "https://localhost:8080/",
     "height": 558
    },
    "id": "1bZRFn82J7fx",
    "outputId": "ba24e537-c815-4d4f-d5d7-431a4912b42c"
   },
   "outputs": [
    {
     "data": {
      "image/png": "[encoded data removed]",
      "text/plain": [
       "<Figure size 640x480 with 1 Axes>"
      ]
     },
     "metadata": {},
     "output_type": "display_data"
    }
   ],
   "source": [
    "import pandas as pd\n",
    "import matplotlib.pyplot as plt\n",
    "\n",
    "def plot_sales_by_region(csv_file):\n",
    "    # Read the CSV file into a DataFrame\n",
    "    df = pd.read_csv(csv_file)\n",
    "\n",
    "    # Group data by region and sum the sales\n",
    "    sales_by_region = df.groupby('Region')['Sales'].sum()\n",
    "\n",
    "    # Plot a bar chart\n",
    "    sales_by_region.plot(kind='bar')\n",
    "\n",
    "    # Add titles and labels\n",
    "    plt.title('Total Sales by Region')\n",
    "    plt.xlabel('Region')\n",
    "    plt.ylabel('Total Sales')\n",
    "\n",
    "    # Show the plot\n",
    "    plt.show()\n",
    "\n",
    "# Example usage\n",
    "csv_file = 'https://raw.githubusercontent.com/DeepaManasa/Projects/refs/heads/PythonProject/company_sales_data.csv'\n",
    "plot_sales_by_region(csv_file)\n"
   ]
  },
  {
   "cell_type": "code",
   "execution_count": 56,
   "metadata": {
    "colab": {
     "base_uri": "https://localhost:8080/",
     "height": 504
    },
    "id": "exCGu6o2KtWC",
    "outputId": "3ff352ff-b2e0-4d92-f3df-d22c7c2d32a2"
   },
   "outputs": [
    {
     "data": {
      "image/png": "[encoded data removed]",
      "text/plain": [
       "<Figure size 640x480 with 1 Axes>"
      ]
     },
     "metadata": {},
     "output_type": "display_data"
    }
   ],
   "source": [
    "import pandas as pd\n",
    "import matplotlib.pyplot as plt\n",
    "\n",
    "def plot_sales_trend(csv_file):\n",
    "    # Read the CSV file into a DataFrame\n",
    "    df = pd.read_csv(csv_file)\n",
    "\n",
    "    # Convert the 'Date' column to datetime format\n",
    "    df['Date'] = pd.to_datetime(df['Date'])\n",
    "\n",
    "    # Group data by date and sum the sales\n",
    "    sales_trend = df.groupby('Date')['Sales'].sum()\n",
    "\n",
    "    # Plot a line chart\n",
    "    sales_trend.plot(kind='line', marker='o')\n",
    "\n",
    "    # Add titles and labels\n",
    "    plt.title('Daily Sales Trend')\n",
    "    plt.xlabel('Date')\n",
    "    plt.ylabel('Total Sales')\n",
    "    plt.grid(True)\n",
    "\n",
    "    # Show the plot\n",
    "    plt.show()\n",
    "\n",
    "# Example usage\n",
    "csv_file = 'https://raw.githubusercontent.com/DeepaManasa/Projects/refs/heads/PythonProject/company_sales_data.csv'\n",
    "plot_sales_trend(csv_file)\n"
   ]
  },
  {
   "cell_type": "markdown",
   "metadata": {
    "id": "f33KL5x06i7n"
   },
   "source": [
    "#Creating Pivot Tables and Grouping Data\n",
    "\n",
    "# Pivot table\n",
    "pivot_table = df.pivot_table(values='value_column', index='index_column', columns='column_names')\n",
    "\n",
    "# Grouping data\n",
    "grouped = df.groupby('column_name')\n",
    "\n",
    "grouped.mean()  # Calculate mean for each group\n",
    "\n",
    "grouped.sum()   # Calculate sum for each group"
   ]
  },
  {
   "cell_type": "code",
   "execution_count": 64,
   "metadata": {
    "colab": {
     "base_uri": "https://localhost:8080/"
    },
    "id": "1isrmW28SOVW",
    "outputId": "213bad5f-d4b8-4435-903e-7b18eaab22a9"
   },
   "outputs": [
    {
     "name": "stdout",
     "output_type": "stream",
     "text": [
      "                  transaction_amount\n",
      "transaction_type                    \n",
      "Deposit                        210.2\n",
      "Withdrawal                     265.4\n"
     ]
    }
   ],
   "source": [
    "\n",
    "import pandas as pd\n",
    "def average_transaction_by_type(excel_file):\n",
    "    df = pd.read_excel(excel_file)\n",
    "    pivot_table = df.pivot_table(values='transaction_amount', index='transaction_type', aggfunc='mean')\n",
    "    return pivot_table\n",
    "\n",
    "# Example usage\n",
    "excel_file = 'transactionsexcel.xlsx'\n",
    "result = average_transaction_by_type(excel_file)\n",
    "print(result)\n"
   ]
  },
  {
   "cell_type": "code",
   "execution_count": 74,
   "metadata": {
    "colab": {
     "base_uri": "https://localhost:8080/"
    },
    "id": "tjq_sPKZZG5a",
    "outputId": "e28e1e94-895b-47ca-b0bc-0961eb073c8b"
   },
   "outputs": [
    {
     "name": "stdout",
     "output_type": "stream",
     "text": [
      "Year                    2020        2021        2022        2023\n",
      "Product_Category                                                \n",
      "Clothing          511.202317  541.511758  538.869286  502.320941\n",
      "Electronics       543.990000  548.898222  546.884684  578.407711\n",
      "Groceries         517.055000  552.607042  582.008261  532.387143\n"
     ]
    }
   ],
   "source": [
    "import pandas as pd\n",
    "import numpy as np\n",
    "\n",
    "# Create sample data\n",
    "np.random.seed(9)\n",
    "date_rng = pd.date_range(start='2020-01-01', end='2023-12-31', freq='D')\n",
    "data = {\n",
    "    'Date': np.random.choice(date_rng, size=1000),\n",
    "    'Product_Category': np.random.choice(['Electronics', 'Clothing', 'Groceries'], size=1000),\n",
    "    'Sales': np.random.uniform(100, 1000, size=1000).round(2)\n",
    "}\n",
    "\n",
    "# Create DataFrame\n",
    "df = pd.DataFrame(data)\n",
    "\n",
    "# Convert Date to datetime and extract year\n",
    "df['Year'] = pd.to_datetime(df['Date']).dt.year\n",
    "\n",
    "# Create pivot table\n",
    "pivot_table = pd.pivot_table(df, values='Sales', index='Product_Category', columns='Year', aggfunc='mean')\n",
    "\n",
    "# Display the pivot table\n",
    "print(pivot_table)"
   ]
  }
 ],
 "metadata": {
  "colab": {
   "provenance": [],
   "toc_visible": true
  },
  "kernelspec": {
   "display_name": "Python 3 (ipykernel)",
   "language": "python",
   "name": "python3"
  },
  "language_info": {
   "codemirror_mode": {
    "name": "ipython",
    "version": 3
   },
   "file_extension": ".py",
   "mimetype": "text/x-python",
   "name": "python",
   "nbconvert_exporter": "python",
   "pygments_lexer": "ipython3",
   "version": "3.12.7"
  }
 },
 "nbformat": 4,
 "nbformat_minor": 4
}
